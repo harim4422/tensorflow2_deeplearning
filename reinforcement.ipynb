{
  "nbformat": 4,
  "nbformat_minor": 0,
  "metadata": {
    "colab": {
      "name": "reinforcement.ipynb",
      "provenance": [],
      "collapsed_sections": [],
      "authorship_tag": "ABX9TyP6QkheFP8xVztRoGAmEOhm",
      "include_colab_link": true
    },
    "kernelspec": {
      "name": "python3",
      "display_name": "Python 3"
    },
    "accelerator": "GPU"
  },
  "cells": [
    {
      "cell_type": "markdown",
      "metadata": {
        "id": "view-in-github",
        "colab_type": "text"
      },
      "source": [
        "<a href=\"https://colab.research.google.com/github/harim4422/tensorflow2_deeplearning/blob/master/reinforcement.ipynb\" target=\"_parent\"><img src=\"https://colab.research.google.com/assets/colab-badge.svg\" alt=\"Open In Colab\"/></a>"
      ]
    },
    {
      "cell_type": "code",
      "metadata": {
        "id": "F5CeuBGTpp7G",
        "colab_type": "code",
        "outputId": "4ea26ec7-6dcd-4456-cc87-33bc2829069d",
        "colab": {
          "base_uri": "https://localhost:8080/",
          "height": 1000
        }
      },
      "source": [
        "!pip install gym pyvirtualdisplay\n",
        "!apt-get install -y xvfb python-opengl ffmpeg\n",
        "\n",
        "!apt-get update\n",
        "!apt-get install cmake\n",
        "!pip install --upgrade setuptools\n",
        "!pip install ez_setup\n",
        "!pip install gym[atari]\n",
        "\n",
        "!pip install box2d-py\n",
        "!pip install gym[Box_2D]"
      ],
      "execution_count": 1,
      "outputs": [
        {
          "output_type": "stream",
          "text": [
            "Requirement already satisfied: gym in /usr/local/lib/python3.6/dist-packages (0.17.1)\n",
            "Collecting pyvirtualdisplay\n",
            "  Downloading https://files.pythonhosted.org/packages/69/ec/8221a07850d69fa3c57c02e526edd23d18c7c05d58ed103e3b19172757c1/PyVirtualDisplay-0.2.5-py2.py3-none-any.whl\n",
            "Requirement already satisfied: pyglet<=1.5.0,>=1.4.0 in /usr/local/lib/python3.6/dist-packages (from gym) (1.5.0)\n",
            "Requirement already satisfied: six in /usr/local/lib/python3.6/dist-packages (from gym) (1.12.0)\n",
            "Requirement already satisfied: scipy in /usr/local/lib/python3.6/dist-packages (from gym) (1.4.1)\n",
            "Requirement already satisfied: numpy>=1.10.4 in /usr/local/lib/python3.6/dist-packages (from gym) (1.18.2)\n",
            "Requirement already satisfied: cloudpickle<1.4.0,>=1.2.0 in /usr/local/lib/python3.6/dist-packages (from gym) (1.3.0)\n",
            "Collecting EasyProcess\n",
            "  Downloading https://files.pythonhosted.org/packages/32/8f/88d636f1da22a3c573259e44cfefb46a117d3f9432e2c98b1ab4a21372ad/EasyProcess-0.2.10-py2.py3-none-any.whl\n",
            "Requirement already satisfied: future in /usr/local/lib/python3.6/dist-packages (from pyglet<=1.5.0,>=1.4.0->gym) (0.16.0)\n",
            "Installing collected packages: EasyProcess, pyvirtualdisplay\n",
            "Successfully installed EasyProcess-0.2.10 pyvirtualdisplay-0.2.5\n",
            "Reading package lists... Done\n",
            "Building dependency tree       \n",
            "Reading state information... Done\n",
            "ffmpeg is already the newest version (7:3.4.6-0ubuntu0.18.04.1).\n",
            "Suggested packages:\n",
            "  libgle3\n",
            "The following NEW packages will be installed:\n",
            "  python-opengl xvfb\n",
            "0 upgraded, 2 newly installed, 0 to remove and 25 not upgraded.\n",
            "Need to get 1,280 kB of archives.\n",
            "After this operation, 7,682 kB of additional disk space will be used.\n",
            "Get:1 http://archive.ubuntu.com/ubuntu bionic/universe amd64 python-opengl all 3.1.0+dfsg-1 [496 kB]\n",
            "Get:2 http://archive.ubuntu.com/ubuntu bionic-updates/universe amd64 xvfb amd64 2:1.19.6-1ubuntu4.4 [784 kB]\n",
            "Fetched 1,280 kB in 3s (483 kB/s)\n",
            "Selecting previously unselected package python-opengl.\n",
            "(Reading database ... 144542 files and directories currently installed.)\n",
            "Preparing to unpack .../python-opengl_3.1.0+dfsg-1_all.deb ...\n",
            "Unpacking python-opengl (3.1.0+dfsg-1) ...\n",
            "Selecting previously unselected package xvfb.\n",
            "Preparing to unpack .../xvfb_2%3a1.19.6-1ubuntu4.4_amd64.deb ...\n",
            "Unpacking xvfb (2:1.19.6-1ubuntu4.4) ...\n",
            "Setting up python-opengl (3.1.0+dfsg-1) ...\n",
            "Setting up xvfb (2:1.19.6-1ubuntu4.4) ...\n",
            "Processing triggers for man-db (2.8.3-2ubuntu0.1) ...\n",
            "Get:1 https://cloud.r-project.org/bin/linux/ubuntu bionic-cran35/ InRelease [3,626 B]\n",
            "Ign:2 https://developer.download.nvidia.com/compute/cuda/repos/ubuntu1804/x86_64  InRelease\n",
            "Ign:3 https://developer.download.nvidia.com/compute/machine-learning/repos/ubuntu1804/x86_64  InRelease\n",
            "Hit:4 https://developer.download.nvidia.com/compute/cuda/repos/ubuntu1804/x86_64  Release\n",
            "Hit:5 https://developer.download.nvidia.com/compute/machine-learning/repos/ubuntu1804/x86_64  Release\n",
            "Hit:6 http://archive.ubuntu.com/ubuntu bionic InRelease\n",
            "Hit:8 http://ppa.launchpad.net/graphics-drivers/ppa/ubuntu bionic InRelease\n",
            "Get:9 http://security.ubuntu.com/ubuntu bionic-security InRelease [88.7 kB]\n",
            "Get:11 http://archive.ubuntu.com/ubuntu bionic-updates InRelease [88.7 kB]\n",
            "Get:12 http://ppa.launchpad.net/marutter/c2d4u3.5/ubuntu bionic InRelease [15.4 kB]\n",
            "Get:13 http://archive.ubuntu.com/ubuntu bionic-backports InRelease [74.6 kB]\n",
            "Get:14 http://security.ubuntu.com/ubuntu bionic-security/main amd64 Packages [857 kB]\n",
            "Get:15 http://ppa.launchpad.net/marutter/c2d4u3.5/ubuntu bionic/main Sources [1,784 kB]\n",
            "Get:16 http://archive.ubuntu.com/ubuntu bionic-updates/main amd64 Packages [1,151 kB]\n",
            "Get:17 http://security.ubuntu.com/ubuntu bionic-security/universe amd64 Packages [832 kB]\n",
            "Get:18 http://archive.ubuntu.com/ubuntu bionic-updates/universe amd64 Packages [1,361 kB]\n",
            "Get:19 http://ppa.launchpad.net/marutter/c2d4u3.5/ubuntu bionic/main amd64 Packages [861 kB]\n",
            "Fetched 7,117 kB in 6s (1,177 kB/s)\n",
            "Reading package lists... Done\n",
            "Reading package lists... Done\n",
            "Building dependency tree       \n",
            "Reading state information... Done\n",
            "cmake is already the newest version (3.10.2-1ubuntu2.18.04.1).\n",
            "0 upgraded, 0 newly installed, 0 to remove and 25 not upgraded.\n",
            "Requirement already up-to-date: setuptools in /usr/local/lib/python3.6/dist-packages (46.0.0)\n",
            "Collecting ez_setup\n",
            "  Downloading https://files.pythonhosted.org/packages/ba/2c/743df41bd6b3298706dfe91b0c7ecdc47f2dc1a3104abeb6e9aa4a45fa5d/ez_setup-0.9.tar.gz\n",
            "Building wheels for collected packages: ez-setup\n",
            "  Building wheel for ez-setup (setup.py) ... \u001b[?25l\u001b[?25hdone\n",
            "  Created wheel for ez-setup: filename=ez_setup-0.9-cp36-none-any.whl size=11015 sha256=2ae3a9cc6bd3d177b48577a8fe7a246b9f7e8fcb9356b16bd35c7fc47d04c5e0\n",
            "  Stored in directory: /root/.cache/pip/wheels/dc/e8/6b/3d5ff5a3efd7b5338d1e173ac981771e2628ceb2f7866d49ad\n",
            "Successfully built ez-setup\n",
            "Installing collected packages: ez-setup\n",
            "Successfully installed ez-setup-0.9\n",
            "Requirement already satisfied: gym[atari] in /usr/local/lib/python3.6/dist-packages (0.17.1)\n",
            "Requirement already satisfied: pyglet<=1.5.0,>=1.4.0 in /usr/local/lib/python3.6/dist-packages (from gym[atari]) (1.5.0)\n",
            "Requirement already satisfied: scipy in /usr/local/lib/python3.6/dist-packages (from gym[atari]) (1.4.1)\n",
            "Requirement already satisfied: numpy>=1.10.4 in /usr/local/lib/python3.6/dist-packages (from gym[atari]) (1.18.2)\n",
            "Requirement already satisfied: cloudpickle<1.4.0,>=1.2.0 in /usr/local/lib/python3.6/dist-packages (from gym[atari]) (1.3.0)\n",
            "Requirement already satisfied: six in /usr/local/lib/python3.6/dist-packages (from gym[atari]) (1.12.0)\n",
            "Requirement already satisfied: atari-py~=0.2.0; extra == \"atari\" in /usr/local/lib/python3.6/dist-packages (from gym[atari]) (0.2.6)\n",
            "Requirement already satisfied: opencv-python; extra == \"atari\" in /usr/local/lib/python3.6/dist-packages (from gym[atari]) (4.1.2.30)\n",
            "Requirement already satisfied: Pillow; extra == \"atari\" in /usr/local/lib/python3.6/dist-packages (from gym[atari]) (7.0.0)\n",
            "Requirement already satisfied: future in /usr/local/lib/python3.6/dist-packages (from pyglet<=1.5.0,>=1.4.0->gym[atari]) (0.16.0)\n",
            "Collecting box2d-py\n",
            "\u001b[?25l  Downloading https://files.pythonhosted.org/packages/06/bd/6cdc3fd994b0649dcf5d9bad85bd9e26172308bbe9a421bfc6fdbf5081a6/box2d_py-2.3.8-cp36-cp36m-manylinux1_x86_64.whl (448kB)\n",
            "\u001b[K     |████████████████████████████████| 450kB 2.8MB/s \n",
            "\u001b[?25hInstalling collected packages: box2d-py\n",
            "Successfully installed box2d-py-2.3.8\n",
            "Requirement already satisfied: gym[Box_2D] in /usr/local/lib/python3.6/dist-packages (0.17.1)\n",
            "\u001b[33m  WARNING: gym 0.17.1 does not provide the extra 'box_2d'\u001b[0m\n",
            "Requirement already satisfied: six in /usr/local/lib/python3.6/dist-packages (from gym[Box_2D]) (1.12.0)\n",
            "Requirement already satisfied: numpy>=1.10.4 in /usr/local/lib/python3.6/dist-packages (from gym[Box_2D]) (1.18.2)\n",
            "Requirement already satisfied: pyglet<=1.5.0,>=1.4.0 in /usr/local/lib/python3.6/dist-packages (from gym[Box_2D]) (1.5.0)\n",
            "Requirement already satisfied: scipy in /usr/local/lib/python3.6/dist-packages (from gym[Box_2D]) (1.4.1)\n",
            "Requirement already satisfied: cloudpickle<1.4.0,>=1.2.0 in /usr/local/lib/python3.6/dist-packages (from gym[Box_2D]) (1.3.0)\n",
            "Requirement already satisfied: future in /usr/local/lib/python3.6/dist-packages (from pyglet<=1.5.0,>=1.4.0->gym[Box_2D]) (0.16.0)\n"
          ],
          "name": "stdout"
        }
      ]
    },
    {
      "cell_type": "code",
      "metadata": {
        "id": "13Q-0lITd-Pq",
        "colab_type": "code",
        "colab": {
          "base_uri": "https://localhost:8080/",
          "height": 35
        },
        "outputId": "2541511a-c9cd-45b2-eb7d-ca60a48a5068"
      },
      "source": [
        "%tensorflow_version 2.x\n",
        "import tensorflow as tf\n",
        "import gym\n",
        "import random"
      ],
      "execution_count": 2,
      "outputs": [
        {
          "output_type": "stream",
          "text": [
            "TensorFlow 2.x selected.\n"
          ],
          "name": "stdout"
        }
      ]
    },
    {
      "cell_type": "code",
      "metadata": {
        "id": "ioS0vMFYoQh6",
        "colab_type": "code",
        "outputId": "2106eac4-7867-41f8-95e7-5df8518e92b4",
        "colab": {
          "base_uri": "https://localhost:8080/",
          "height": 72
        }
      },
      "source": [
        "# env.render() 함수의 결과를 mp4 동영상으로 보여주기 위한 코드\n",
        "# from https://colab.research.google.com/drive/1flu31ulJlgiRL1dnN2ir8wGh9p7Zij2t\n",
        "from gym import logger as gymlogger\n",
        "from gym.wrappers import Monitor\n",
        "gymlogger.set_level(40) #error only\n",
        "import glob\n",
        "import io\n",
        "import base64\n",
        "from IPython.display import HTML\n",
        "from IPython import display as ipythondisplay\n",
        "\n",
        "\"\"\"\n",
        "Utility functions to enable video recording of gym environment and displaying it\n",
        "To enable video, just do \"env = wrap_env(env)\"\"\n",
        "\"\"\"\n",
        "\n",
        "def show_video():\n",
        "    mp4list = glob.glob('video/*.mp4')\n",
        "    if len(mp4list) > 0:\n",
        "        mp4 = mp4list[0]\n",
        "        video = io.open(mp4, 'r+b').read()\n",
        "        encoded = base64.b64encode(video)\n",
        "        ipythondisplay.display(HTML(data='''<video alt=\"test\" autoplay \n",
        "                loop controls style=\"height: 400px;\">\n",
        "                <source src=\"data:video/mp4;base64,{0}\" type=\"video/mp4\" />\n",
        "             </video>'''.format(encoded.decode('ascii'))))\n",
        "    else: \n",
        "        print(\"Could not find video\")\n",
        "    \n",
        "\n",
        "def wrap_env(env):\n",
        "    env = Monitor(env, './video', force=True)\n",
        "    return env\n",
        "  \n",
        "from pyvirtualdisplay import Display\n",
        "display = Display(visible=0, size=(1400, 900))\n",
        "display.start()"
      ],
      "execution_count": 3,
      "outputs": [
        {
          "output_type": "stream",
          "text": [
            "xdpyinfo was not found, X start can not be checked! Please install xdpyinfo!\n"
          ],
          "name": "stderr"
        },
        {
          "output_type": "execute_result",
          "data": {
            "text/plain": [
              "<Display cmd_param=['Xvfb', '-br', '-nolisten', 'tcp', '-screen', '0', '1400x900x24', ':1001'] cmd=['Xvfb', '-br', '-nolisten', 'tcp', '-screen', '0', '1400x900x24', ':1001'] oserror=None return_code=None stdout=\"None\" stderr=\"None\" timeout_happened=False>"
            ]
          },
          "metadata": {
            "tags": []
          },
          "execution_count": 3
        }
      ]
    },
    {
      "cell_type": "code",
      "metadata": {
        "id": "mNDufiAfeL9j",
        "colab_type": "code",
        "colab": {}
      },
      "source": [
        "env = gym.make('MountainCar-v0')"
      ],
      "execution_count": 0,
      "outputs": []
    },
    {
      "cell_type": "code",
      "metadata": {
        "id": "EGAS83-7jMib",
        "colab_type": "code",
        "outputId": "a13c3da3-c287-4729-83a5-bc14844e74fd",
        "colab": {
          "base_uri": "https://localhost:8080/",
          "height": 106
        }
      },
      "source": [
        "print(env.observation_space)\n",
        "print(env.observation_space.low)\n",
        "print(env.observation_space.high)\n",
        "print(env.action_space)\n",
        "print(env._max_episode_steps)"
      ],
      "execution_count": 0,
      "outputs": [
        {
          "output_type": "stream",
          "text": [
            "Box(2,)\n",
            "[-1.2  -0.07]\n",
            "[0.6  0.07]\n",
            "Discrete(3)\n",
            "200\n"
          ],
          "name": "stdout"
        }
      ]
    },
    {
      "cell_type": "code",
      "metadata": {
        "id": "cj-0VyxQjhd4",
        "colab_type": "code",
        "outputId": "91d4391a-750c-425a-e4c0-ec6f2c329dee",
        "colab": {
          "base_uri": "https://localhost:8080/",
          "height": 455
        }
      },
      "source": [
        "env = wrap_env(env)\n",
        "step = 0\n",
        "score = 0\n",
        "env.reset()\n",
        "\n",
        "while True:\n",
        "  action = env.action_space.sample()\n",
        "  obs, reward, done, info = env.step(action)\n",
        "  score += reward\n",
        "  step += 1\n",
        "  if done:\n",
        "    break\n",
        "  \n",
        "env.close()\n",
        "show_video()\n",
        "print('Final Score : ', score)\n",
        "print('Step : ', step)"
      ],
      "execution_count": 0,
      "outputs": [
        {
          "output_type": "display_data",
          "data": {
            "text/html": [
              "<video alt=\"test\" autoplay \n",
              "                loop controls style=\"height: 400px;\">\n",
              "                <source src=\"data:video/mp4;base64,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\" type=\"video/mp4\" />\n",
              "             </video>"
            ],
            "text/plain": [
              "<IPython.core.display.HTML object>"
            ]
          },
          "metadata": {
            "tags": []
          }
        },
        {
          "output_type": "stream",
          "text": [
            "Final Score :  -200.0\n",
            "Step :  200\n"
          ],
          "name": "stdout"
        }
      ]
    },
    {
      "cell_type": "code",
      "metadata": {
        "id": "fQ2U7huUpmDU",
        "colab_type": "code",
        "outputId": "fe554ed0-e4da-461c-cf52-fa2cd30128e9",
        "colab": {
          "base_uri": "https://localhost:8080/",
          "height": 35
        }
      },
      "source": [
        "import numpy as np\n",
        "\n",
        "env = gym.make('MountainCar-v0')\n",
        "\n",
        "scores = []\n",
        "training_data = []\n",
        "accepted_scores = []\n",
        "required_score = -198\n",
        "for i in range(20000):\n",
        "  env.reset()\n",
        "  score = 0\n",
        "  game_memory = []\n",
        "  previous_obs = []\n",
        "\n",
        "  while True:\n",
        "    action = env.action_space.sample()\n",
        "    obs, reward, done, info = env.step(action)\n",
        "    if len(previous_obs) > 0:\n",
        "      game_memory.append([previous_obs, action])\n",
        "    previous_obs = obs\n",
        "    if obs[0] > -0.2:\n",
        "      reward = 1\n",
        "    score += reward\n",
        "    if done:\n",
        "      break\n",
        "  \n",
        "  scores.append(score)\n",
        "  if score > required_score:\n",
        "    accepted_scores.append(score)\n",
        "    for data in game_memory:\n",
        "      training_data.append(data)\n",
        "print('finished!')"
      ],
      "execution_count": 4,
      "outputs": [
        {
          "output_type": "stream",
          "text": [
            "finished!\n"
          ],
          "name": "stdout"
        }
      ]
    },
    {
      "cell_type": "code",
      "metadata": {
        "id": "bgqXIsdIP_uW",
        "colab_type": "code",
        "outputId": "200ffc7b-8b3f-4979-81be-c14ef218e5d1",
        "colab": {
          "base_uri": "https://localhost:8080/",
          "height": 70
        }
      },
      "source": [
        "print('mean of scores', np.mean(scores))\n",
        "print('length of acceted_scores', len(accepted_scores))\n",
        "print('mean of acceted_scores', np.mean(accepted_scores))"
      ],
      "execution_count": 5,
      "outputs": [
        {
          "output_type": "stream",
          "text": [
            "mean of scores -199.9036\n",
            "length of acceted_scores 100\n",
            "mean of acceted_scores -180.74\n"
          ],
          "name": "stdout"
        }
      ]
    },
    {
      "cell_type": "code",
      "metadata": {
        "id": "KHpQ3tvyjUAk",
        "colab_type": "code",
        "outputId": "268f9c7e-167d-420b-8708-e6774983dc8a",
        "colab": {
          "base_uri": "https://localhost:8080/",
          "height": 52
        }
      },
      "source": [
        "train_X = np.array([i[0] for i in training_data]).reshape(-1, 2)\n",
        "train_Y = np.array([i[1] for i in training_data]).reshape(-1, 1)\n",
        "print(train_X.shape)\n",
        "print(train_Y.shape)"
      ],
      "execution_count": 6,
      "outputs": [
        {
          "output_type": "stream",
          "text": [
            "(19900, 2)\n",
            "(19900, 1)\n"
          ],
          "name": "stdout"
        }
      ]
    },
    {
      "cell_type": "code",
      "metadata": {
        "id": "4Mj-vPWFjl1M",
        "colab_type": "code",
        "outputId": "5aa9e91f-0f9c-4afb-ef24-e268cbae1acf",
        "colab": {
          "base_uri": "https://localhost:8080/",
          "height": 1000
        }
      },
      "source": [
        "model = tf.keras.Sequential([\n",
        "                             tf.keras.layers.Dense(128, input_shape=(2,), activation='relu'),\n",
        "                             tf.keras.layers.Dense(32, activation='relu'),\n",
        "                             tf.keras.layers.Dense(3, activation='softmax')\n",
        "])\n",
        "model.compile(optimizer=tf.optimizers.Adam(), loss='sparse_categorical_crossentropy', metrics=['accuracy'])\n",
        "callback = tf.keras.callbacks.EarlyStopping(monitor='val_loss', patience=5)\n",
        "history = model.fit(train_X, train_Y, epochs=30, callbacks=[callback], batch_size=16, validation_split=0.25)"
      ],
      "execution_count": 9,
      "outputs": [
        {
          "output_type": "stream",
          "text": [
            "Train on 14925 samples, validate on 4975 samples\n",
            "Epoch 1/30\n",
            "14925/14925 [==============================] - 3s 204us/sample - loss: 1.0987 - accuracy: 0.3440 - val_loss: 1.0975 - val_accuracy: 0.3485\n",
            "Epoch 2/30\n",
            "14925/14925 [==============================] - 3s 184us/sample - loss: 1.0970 - accuracy: 0.3646 - val_loss: 1.0945 - val_accuracy: 0.3906\n",
            "Epoch 3/30\n",
            "14925/14925 [==============================] - 3s 189us/sample - loss: 1.0923 - accuracy: 0.3851 - val_loss: 1.0880 - val_accuracy: 0.4076\n",
            "Epoch 4/30\n",
            "14925/14925 [==============================] - 3s 189us/sample - loss: 1.0881 - accuracy: 0.3923 - val_loss: 1.0849 - val_accuracy: 0.4131\n",
            "Epoch 5/30\n",
            "14925/14925 [==============================] - 3s 181us/sample - loss: 1.0867 - accuracy: 0.3976 - val_loss: 1.0840 - val_accuracy: 0.4094\n",
            "Epoch 6/30\n",
            "14925/14925 [==============================] - 3s 181us/sample - loss: 1.0859 - accuracy: 0.3997 - val_loss: 1.0860 - val_accuracy: 0.4010\n",
            "Epoch 7/30\n",
            "14925/14925 [==============================] - 3s 180us/sample - loss: 1.0858 - accuracy: 0.3965 - val_loss: 1.0831 - val_accuracy: 0.4127\n",
            "Epoch 8/30\n",
            "14925/14925 [==============================] - 3s 180us/sample - loss: 1.0859 - accuracy: 0.3995 - val_loss: 1.0832 - val_accuracy: 0.4135\n",
            "Epoch 9/30\n",
            "14925/14925 [==============================] - 3s 182us/sample - loss: 1.0855 - accuracy: 0.4002 - val_loss: 1.0834 - val_accuracy: 0.4068\n",
            "Epoch 10/30\n",
            "14925/14925 [==============================] - 3s 183us/sample - loss: 1.0851 - accuracy: 0.4005 - val_loss: 1.0831 - val_accuracy: 0.4092\n",
            "Epoch 11/30\n",
            "14925/14925 [==============================] - 3s 184us/sample - loss: 1.0848 - accuracy: 0.4040 - val_loss: 1.0827 - val_accuracy: 0.4074\n",
            "Epoch 12/30\n",
            "14925/14925 [==============================] - 3s 184us/sample - loss: 1.0846 - accuracy: 0.4036 - val_loss: 1.0824 - val_accuracy: 0.4145\n",
            "Epoch 13/30\n",
            "14925/14925 [==============================] - 3s 176us/sample - loss: 1.0842 - accuracy: 0.4017 - val_loss: 1.0834 - val_accuracy: 0.4052\n",
            "Epoch 14/30\n",
            "14925/14925 [==============================] - 3s 183us/sample - loss: 1.0843 - accuracy: 0.4021 - val_loss: 1.0822 - val_accuracy: 0.4113\n",
            "Epoch 15/30\n",
            "14925/14925 [==============================] - 3s 184us/sample - loss: 1.0839 - accuracy: 0.4029 - val_loss: 1.0816 - val_accuracy: 0.4139\n",
            "Epoch 16/30\n",
            "14925/14925 [==============================] - 3s 180us/sample - loss: 1.0835 - accuracy: 0.4029 - val_loss: 1.0821 - val_accuracy: 0.4052\n",
            "Epoch 17/30\n",
            "14925/14925 [==============================] - 3s 182us/sample - loss: 1.0833 - accuracy: 0.4025 - val_loss: 1.0817 - val_accuracy: 0.4074\n",
            "Epoch 18/30\n",
            "14925/14925 [==============================] - 3s 182us/sample - loss: 1.0830 - accuracy: 0.4012 - val_loss: 1.0821 - val_accuracy: 0.4010\n",
            "Epoch 19/30\n",
            "14925/14925 [==============================] - 3s 181us/sample - loss: 1.0826 - accuracy: 0.4029 - val_loss: 1.0813 - val_accuracy: 0.4080\n",
            "Epoch 20/30\n",
            "14925/14925 [==============================] - 3s 185us/sample - loss: 1.0826 - accuracy: 0.4019 - val_loss: 1.0829 - val_accuracy: 0.4086\n",
            "Epoch 21/30\n",
            "14925/14925 [==============================] - 3s 192us/sample - loss: 1.0822 - accuracy: 0.4011 - val_loss: 1.0800 - val_accuracy: 0.4078\n",
            "Epoch 22/30\n",
            "14925/14925 [==============================] - 3s 191us/sample - loss: 1.0821 - accuracy: 0.3990 - val_loss: 1.0813 - val_accuracy: 0.4060\n",
            "Epoch 23/30\n",
            "14925/14925 [==============================] - 3s 191us/sample - loss: 1.0822 - accuracy: 0.4011 - val_loss: 1.0789 - val_accuracy: 0.4173\n",
            "Epoch 24/30\n",
            "14925/14925 [==============================] - 3s 192us/sample - loss: 1.0815 - accuracy: 0.4042 - val_loss: 1.0807 - val_accuracy: 0.4002\n",
            "Epoch 25/30\n",
            "14925/14925 [==============================] - 3s 179us/sample - loss: 1.0816 - accuracy: 0.4049 - val_loss: 1.0791 - val_accuracy: 0.4151\n",
            "Epoch 26/30\n",
            "14925/14925 [==============================] - 3s 179us/sample - loss: 1.0816 - accuracy: 0.4011 - val_loss: 1.0866 - val_accuracy: 0.3934\n",
            "Epoch 27/30\n",
            "14925/14925 [==============================] - 3s 180us/sample - loss: 1.0820 - accuracy: 0.4004 - val_loss: 1.0803 - val_accuracy: 0.4090\n",
            "Epoch 28/30\n",
            "14925/14925 [==============================] - 3s 177us/sample - loss: 1.0812 - accuracy: 0.4005 - val_loss: 1.0809 - val_accuracy: 0.4129\n"
          ],
          "name": "stdout"
        }
      ]
    },
    {
      "cell_type": "code",
      "metadata": {
        "id": "PG26rFY8kTBE",
        "colab_type": "code",
        "outputId": "db46a17f-4de4-444d-eeaa-52dab5e239d5",
        "colab": {
          "base_uri": "https://localhost:8080/",
          "height": 267
        }
      },
      "source": [
        "import matplotlib.pyplot as plt\n",
        "plt.plot(history.history['accuracy'], 'b-', label='accuracy')\n",
        "plt.plot(history.history['val_accuracy'], 'k--', label='val_accuracy')\n",
        "plt.legend()\n",
        "plt.show()"
      ],
      "execution_count": 10,
      "outputs": [
        {
          "output_type": "display_data",
          "data": {
            "image/png": "[encoded data removed]",
            "text/plain": [
              "<Figure size 432x288 with 1 Axes>"
            ]
          },
          "metadata": {
            "tags": []
          }
        }
      ]
    },
    {
      "cell_type": "code",
      "metadata": {
        "id": "n1vlxymlvKmS",
        "colab_type": "code",
        "outputId": "b81f15c6-2ef6-4a30-f69e-2c074ea6328b",
        "colab": {
          "base_uri": "https://localhost:8080/",
          "height": 1000
        }
      },
      "source": [
        "env.close()\n",
        "env = gym.make('MountainCar-v0')\n",
        "scores = []\n",
        "steps = []\n",
        "actions = []\n",
        "\n",
        "for i in range(500):\n",
        "  score = 0\n",
        "  step = 0\n",
        "  previous_obs = []\n",
        "  env.reset()\n",
        "\n",
        "  while True:\n",
        "    if len(previous_obs) == 0:\n",
        "      action = env.action_space.sample()\n",
        "      print('start! : ', i)\n",
        "    else:\n",
        "      logit = model.predict(np.expand_dims(previous_obs, axis=0))[0]\n",
        "      action = np.argmax(logit)\n",
        "      actions.append(action)\n",
        "    obs, reward, done, _ = env.step(action)\n",
        "    previous_obs = obs\n",
        "    score += reward\n",
        "    step += 1\n",
        "\n",
        "    if done:\n",
        "      break\n",
        "\n",
        "  scores.append(score)\n",
        "  steps.append(step)\n",
        "\n",
        "print('finished!')"
      ],
      "execution_count": 12,
      "outputs": [
        {
          "output_type": "stream",
          "text": [
            "start! :  0\n",
            "start! :  1\n",
            "start! :  2\n",
            "start! :  3\n",
            "start! :  4\n",
            "start! :  5\n",
            "start! :  6\n",
            "start! :  7\n",
            "start! :  8\n",
            "start! :  9\n",
            "start! :  10\n",
            "start! :  11\n",
            "start! :  12\n",
            "start! :  13\n",
            "start! :  14\n",
            "start! :  15\n",
            "start! :  16\n",
            "start! :  17\n",
            "start! :  18\n",
            "start! :  19\n",
            "start! :  20\n",
            "start! :  21\n",
            "start! :  22\n",
            "start! :  23\n",
            "start! :  24\n",
            "start! :  25\n",
            "start! :  26\n",
            "start! :  27\n",
            "start! :  28\n",
            "start! :  29\n",
            "start! :  30\n",
            "start! :  31\n",
            "start! :  32\n",
            "start! :  33\n",
            "start! :  34\n",
            "start! :  35\n",
            "start! :  36\n",
            "start! :  37\n",
            "start! :  38\n",
            "start! :  39\n",
            "start! :  40\n",
            "start! :  41\n",
            "start! :  42\n",
            "start! :  43\n",
            "start! :  44\n",
            "start! :  45\n",
            "start! :  46\n",
            "start! :  47\n",
            "start! :  48\n",
            "start! :  49\n",
            "start! :  50\n",
            "start! :  51\n",
            "start! :  52\n",
            "start! :  53\n",
            "start! :  54\n",
            "start! :  55\n",
            "start! :  56\n",
            "start! :  57\n",
            "start! :  58\n",
            "start! :  59\n",
            "start! :  60\n",
            "start! :  61\n",
            "start! :  62\n",
            "start! :  63\n",
            "start! :  64\n",
            "start! :  65\n",
            "start! :  66\n",
            "start! :  67\n",
            "start! :  68\n",
            "start! :  69\n",
            "start! :  70\n",
            "start! :  71\n",
            "start! :  72\n",
            "start! :  73\n",
            "start! :  74\n",
            "start! :  75\n",
            "start! :  76\n",
            "start! :  77\n",
            "start! :  78\n",
            "start! :  79\n",
            "start! :  80\n",
            "start! :  81\n",
            "start! :  82\n",
            "start! :  83\n",
            "start! :  84\n",
            "start! :  85\n",
            "start! :  86\n",
            "start! :  87\n",
            "start! :  88\n",
            "start! :  89\n",
            "start! :  90\n",
            "start! :  91\n",
            "start! :  92\n",
            "start! :  93\n",
            "start! :  94\n",
            "start! :  95\n",
            "start! :  96\n",
            "start! :  97\n",
            "start! :  98\n",
            "start! :  99\n",
            "start! :  100\n",
            "start! :  101\n",
            "start! :  102\n",
            "start! :  103\n",
            "start! :  104\n",
            "start! :  105\n",
            "start! :  106\n",
            "start! :  107\n",
            "start! :  108\n",
            "start! :  109\n",
            "start! :  110\n",
            "start! :  111\n",
            "start! :  112\n",
            "start! :  113\n",
            "start! :  114\n",
            "start! :  115\n",
            "start! :  116\n",
            "start! :  117\n",
            "start! :  118\n",
            "start! :  119\n",
            "start! :  120\n",
            "start! :  121\n",
            "start! :  122\n",
            "start! :  123\n",
            "start! :  124\n",
            "start! :  125\n",
            "start! :  126\n",
            "start! :  127\n",
            "start! :  128\n",
            "start! :  129\n",
            "start! :  130\n",
            "start! :  131\n",
            "start! :  132\n",
            "start! :  133\n",
            "start! :  134\n",
            "start! :  135\n",
            "start! :  136\n",
            "start! :  137\n",
            "start! :  138\n",
            "start! :  139\n",
            "start! :  140\n",
            "start! :  141\n",
            "start! :  142\n",
            "start! :  143\n",
            "start! :  144\n",
            "start! :  145\n",
            "start! :  146\n",
            "start! :  147\n",
            "start! :  148\n",
            "start! :  149\n",
            "start! :  150\n",
            "start! :  151\n",
            "start! :  152\n",
            "start! :  153\n",
            "start! :  154\n",
            "start! :  155\n",
            "start! :  156\n",
            "start! :  157\n",
            "start! :  158\n",
            "start! :  159\n",
            "start! :  160\n",
            "start! :  161\n",
            "start! :  162\n",
            "start! :  163\n",
            "start! :  164\n",
            "start! :  165\n",
            "start! :  166\n",
            "start! :  167\n",
            "start! :  168\n",
            "start! :  169\n",
            "start! :  170\n",
            "start! :  171\n",
            "start! :  172\n",
            "start! :  173\n",
            "start! :  174\n",
            "start! :  175\n",
            "start! :  176\n",
            "start! :  177\n",
            "start! :  178\n",
            "start! :  179\n",
            "start! :  180\n",
            "start! :  181\n",
            "start! :  182\n",
            "start! :  183\n",
            "start! :  184\n",
            "start! :  185\n",
            "start! :  186\n",
            "start! :  187\n",
            "start! :  188\n",
            "start! :  189\n",
            "start! :  190\n",
            "start! :  191\n",
            "start! :  192\n",
            "start! :  193\n",
            "start! :  194\n",
            "start! :  195\n",
            "start! :  196\n",
            "start! :  197\n",
            "start! :  198\n",
            "start! :  199\n",
            "start! :  200\n",
            "start! :  201\n",
            "start! :  202\n",
            "start! :  203\n",
            "start! :  204\n",
            "start! :  205\n",
            "start! :  206\n",
            "start! :  207\n",
            "start! :  208\n",
            "start! :  209\n",
            "start! :  210\n",
            "start! :  211\n",
            "start! :  212\n",
            "start! :  213\n",
            "start! :  214\n",
            "start! :  215\n",
            "start! :  216\n",
            "start! :  217\n",
            "start! :  218\n",
            "start! :  219\n",
            "start! :  220\n",
            "start! :  221\n",
            "start! :  222\n",
            "start! :  223\n",
            "start! :  224\n",
            "start! :  225\n",
            "start! :  226\n",
            "start! :  227\n",
            "start! :  228\n",
            "start! :  229\n",
            "start! :  230\n",
            "start! :  231\n",
            "start! :  232\n",
            "start! :  233\n",
            "start! :  234\n",
            "start! :  235\n",
            "start! :  236\n",
            "start! :  237\n",
            "start! :  238\n",
            "start! :  239\n",
            "start! :  240\n",
            "start! :  241\n",
            "start! :  242\n",
            "start! :  243\n",
            "start! :  244\n",
            "start! :  245\n",
            "start! :  246\n",
            "start! :  247\n",
            "start! :  248\n",
            "start! :  249\n",
            "start! :  250\n",
            "start! :  251\n",
            "start! :  252\n",
            "start! :  253\n",
            "start! :  254\n",
            "start! :  255\n",
            "start! :  256\n",
            "start! :  257\n",
            "start! :  258\n",
            "start! :  259\n",
            "start! :  260\n",
            "start! :  261\n",
            "start! :  262\n",
            "start! :  263\n",
            "start! :  264\n",
            "start! :  265\n",
            "start! :  266\n",
            "start! :  267\n",
            "start! :  268\n",
            "start! :  269\n",
            "start! :  270\n",
            "start! :  271\n",
            "start! :  272\n",
            "start! :  273\n",
            "start! :  274\n",
            "start! :  275\n",
            "start! :  276\n",
            "start! :  277\n",
            "start! :  278\n",
            "start! :  279\n",
            "start! :  280\n",
            "start! :  281\n",
            "start! :  282\n",
            "start! :  283\n",
            "start! :  284\n",
            "start! :  285\n",
            "start! :  286\n",
            "start! :  287\n",
            "start! :  288\n",
            "start! :  289\n",
            "start! :  290\n",
            "start! :  291\n",
            "start! :  292\n",
            "start! :  293\n",
            "start! :  294\n",
            "start! :  295\n",
            "start! :  296\n",
            "start! :  297\n",
            "start! :  298\n",
            "start! :  299\n",
            "start! :  300\n",
            "start! :  301\n",
            "start! :  302\n",
            "start! :  303\n",
            "start! :  304\n",
            "start! :  305\n",
            "start! :  306\n",
            "start! :  307\n",
            "start! :  308\n",
            "start! :  309\n",
            "start! :  310\n",
            "start! :  311\n",
            "start! :  312\n",
            "start! :  313\n",
            "start! :  314\n",
            "start! :  315\n",
            "start! :  316\n",
            "start! :  317\n",
            "start! :  318\n",
            "start! :  319\n",
            "start! :  320\n",
            "start! :  321\n",
            "start! :  322\n",
            "start! :  323\n",
            "start! :  324\n",
            "start! :  325\n",
            "start! :  326\n",
            "start! :  327\n",
            "start! :  328\n",
            "start! :  329\n",
            "start! :  330\n",
            "start! :  331\n",
            "start! :  332\n",
            "start! :  333\n",
            "start! :  334\n",
            "start! :  335\n",
            "start! :  336\n",
            "start! :  337\n",
            "start! :  338\n",
            "start! :  339\n",
            "start! :  340\n",
            "start! :  341\n",
            "start! :  342\n",
            "start! :  343\n",
            "start! :  344\n",
            "start! :  345\n",
            "start! :  346\n",
            "start! :  347\n",
            "start! :  348\n",
            "start! :  349\n",
            "start! :  350\n",
            "start! :  351\n",
            "start! :  352\n",
            "start! :  353\n",
            "start! :  354\n",
            "start! :  355\n",
            "start! :  356\n",
            "start! :  357\n",
            "start! :  358\n",
            "start! :  359\n",
            "start! :  360\n",
            "start! :  361\n",
            "start! :  362\n",
            "start! :  363\n",
            "start! :  364\n",
            "start! :  365\n",
            "start! :  366\n",
            "start! :  367\n",
            "start! :  368\n",
            "start! :  369\n",
            "start! :  370\n",
            "start! :  371\n",
            "start! :  372\n",
            "start! :  373\n",
            "start! :  374\n",
            "start! :  375\n",
            "start! :  376\n",
            "start! :  377\n",
            "start! :  378\n",
            "start! :  379\n",
            "start! :  380\n",
            "start! :  381\n",
            "start! :  382\n",
            "start! :  383\n",
            "start! :  384\n",
            "start! :  385\n",
            "start! :  386\n",
            "start! :  387\n",
            "start! :  388\n",
            "start! :  389\n",
            "start! :  390\n",
            "start! :  391\n",
            "start! :  392\n",
            "start! :  393\n",
            "start! :  394\n",
            "start! :  395\n",
            "start! :  396\n",
            "start! :  397\n",
            "start! :  398\n",
            "start! :  399\n",
            "start! :  400\n",
            "start! :  401\n",
            "start! :  402\n",
            "start! :  403\n",
            "start! :  404\n",
            "start! :  405\n",
            "start! :  406\n",
            "start! :  407\n",
            "start! :  408\n",
            "start! :  409\n",
            "start! :  410\n",
            "start! :  411\n",
            "start! :  412\n",
            "start! :  413\n",
            "start! :  414\n",
            "start! :  415\n",
            "start! :  416\n",
            "start! :  417\n",
            "start! :  418\n",
            "start! :  419\n",
            "start! :  420\n",
            "start! :  421\n",
            "start! :  422\n",
            "start! :  423\n",
            "start! :  424\n",
            "start! :  425\n",
            "start! :  426\n",
            "start! :  427\n",
            "start! :  428\n",
            "start! :  429\n",
            "start! :  430\n",
            "start! :  431\n",
            "start! :  432\n",
            "start! :  433\n",
            "start! :  434\n",
            "start! :  435\n",
            "start! :  436\n",
            "start! :  437\n",
            "start! :  438\n",
            "start! :  439\n",
            "start! :  440\n",
            "start! :  441\n",
            "start! :  442\n",
            "start! :  443\n",
            "start! :  444\n",
            "start! :  445\n",
            "start! :  446\n",
            "start! :  447\n",
            "start! :  448\n",
            "start! :  449\n",
            "start! :  450\n",
            "start! :  451\n",
            "start! :  452\n",
            "start! :  453\n",
            "start! :  454\n",
            "start! :  455\n",
            "start! :  456\n",
            "start! :  457\n",
            "start! :  458\n",
            "start! :  459\n",
            "start! :  460\n",
            "start! :  461\n",
            "start! :  462\n",
            "start! :  463\n",
            "start! :  464\n",
            "start! :  465\n",
            "start! :  466\n",
            "start! :  467\n",
            "start! :  468\n",
            "start! :  469\n",
            "start! :  470\n",
            "start! :  471\n",
            "start! :  472\n",
            "start! :  473\n",
            "start! :  474\n",
            "start! :  475\n",
            "start! :  476\n",
            "start! :  477\n",
            "start! :  478\n",
            "start! :  479\n",
            "start! :  480\n",
            "start! :  481\n",
            "start! :  482\n",
            "start! :  483\n",
            "start! :  484\n",
            "start! :  485\n",
            "start! :  486\n",
            "start! :  487\n",
            "start! :  488\n",
            "start! :  489\n",
            "start! :  490\n",
            "start! :  491\n",
            "start! :  492\n",
            "start! :  493\n",
            "start! :  494\n",
            "start! :  495\n",
            "start! :  496\n",
            "start! :  497\n",
            "start! :  498\n",
            "start! :  499\n",
            "finished!\n"
          ],
          "name": "stdout"
        }
      ]
    },
    {
      "cell_type": "code",
      "metadata": {
        "id": "WSaRtEyLQaMI",
        "colab_type": "code",
        "outputId": "933a2a3b-c2bd-4ab5-d4fc-e0840dd66ba1",
        "colab": {
          "base_uri": "https://localhost:8080/",
          "height": 52
        }
      },
      "source": [
        "print('mean of scores', np.mean(scores))\n",
        "print('mean of steps', np.mean(steps))"
      ],
      "execution_count": 0,
      "outputs": [
        {
          "output_type": "stream",
          "text": [
            "mean of scores -138.194\n",
            "mean of steps 138.194\n"
          ],
          "name": "stdout"
        }
      ]
    },
    {
      "cell_type": "code",
      "metadata": {
        "id": "kEOv4ZT-Mszt",
        "colab_type": "code",
        "outputId": "886a02c3-c5ec-4401-e1bd-fcc92bf60677",
        "colab": {
          "base_uri": "https://localhost:8080/",
          "height": 299
        }
      },
      "source": [
        "import seaborn as sns\n",
        "\n",
        "fig, ax = plt.subplots(1, 2, figsize=(12, 4))\n",
        "ax[0].set_title('score')\n",
        "ax[1].set_title('step')\n",
        "sns.distplot(scores, rug=True, ax=ax[0])\n",
        "sns.distplot(steps, rug=True, ax=ax[1])"
      ],
      "execution_count": 0,
      "outputs": [
        {
          "output_type": "execute_result",
          "data": {
            "text/plain": [
              "<matplotlib.axes._subplots.AxesSubplot at 0x7f43559142e8>"
            ]
          },
          "metadata": {
            "tags": []
          },
          "execution_count": 19
        },
        {
          "output_type": "display_data",
          "data": {
            "image/png": "[encoded data removed]",
            "text/plain": [
              "<Figure size 864x288 with 2 Axes>"
            ]
          },
          "metadata": {
            "tags": []
          }
        }
      ]
    },
    {
      "cell_type": "code",
      "metadata": {
        "id": "Rx5dIb9tN4wf",
        "colab_type": "code",
        "outputId": "aab6df54-306e-4984-c259-9f0a203e7672",
        "colab": {
          "base_uri": "https://localhost:8080/",
          "height": 455
        }
      },
      "source": [
        "env.close()\n",
        "env = wrap_env(gym.make('MountainCar-v0'))\n",
        "env.reset()\n",
        "\n",
        "score = 0\n",
        "step = 0\n",
        "previous_obs = []\n",
        "while True:\n",
        "  if len(previous_obs) == 0:\n",
        "    action = env.action_space.sample()\n",
        "  else:\n",
        "    logit = model.predict(np.expand_dims(previous_obs, axis=0))[0]\n",
        "    action = np.argmax(logit)\n",
        "  obs, reward, done, _ = env.step(action)\n",
        "  previous_obs = obs\n",
        "  score += reward\n",
        "  step += 1\n",
        "\n",
        "  if done:\n",
        "    break\n",
        "  \n",
        "print('score : ', score)\n",
        "print('step : ', step)\n",
        "env.close()\n",
        "show_video()"
      ],
      "execution_count": 11,
      "outputs": [
        {
          "output_type": "stream",
          "text": [
            "score :  -92.0\n",
            "step :  92\n"
          ],
          "name": "stdout"
        },
        {
          "output_type": "display_data",
          "data": {
            "text/html": [
              "<video alt=\"test\" autoplay \n",
              "                loop controls style=\"height: 400px;\">\n",
              "                <source src=\"data:video/mp4;base64,AAAAIGZ0eXBpc29tAAACAGlzb21pc28yYXZjMW1wNDEAAAAIZnJlZQAAZVVtZGF0AAACrgYF//+q3EXpvebZSLeWLNgg2SPu73gyNjQgLSBjb3JlIDE1MiByMjg1NCBlOWE1OTAzIC0gSC4yNjQvTVBFRy00IEFWQyBjb2RlYyAtIENvcHlsZWZ0IDIwMDMtMjAxNyAtIGh0dHA6Ly93d3cudmlkZW9sYW4ub3JnL3gyNjQuaHRtbCAtIG9wdGlvbnM6IGNhYmFjPTEgcmVmPTMgZGVibG9jaz0xOjA6MCBhbmFseXNlPTB4MzoweDExMyBtZT1oZXggc3VibWU9NyBwc3k9MSBwc3lfcmQ9MS4wMDowLjAwIG1peGVkX3JlZj0xIG1lX3JhbmdlPTE2IGNocm9tYV9tZT0xIHRyZWxsaXM9MSA4eDhkY3Q9MSBjcW09MCBkZWFkem9uZT0yMSwxMSBmYXN0X3Bza2lwPTEgY2hyb21hX3FwX29mZnNldD0tMiB0aHJlYWRzPTMgbG9va2FoZWFkX3RocmVhZHM9MSBzbGljZWRfdGhyZWFkcz0wIG5yPTAgZGVjaW1hdGU9MSBpbnRlcmxhY2VkPTAgYmx1cmF5X2NvbXBhdD0wIGNvbnN0cmFpbmVkX2ludHJhPTAgYmZyYW1lcz0zIGJfcHlyYW1pZD0yIGJfYWRhcHQ9MSBiX2JpYXM9MCBkaXJlY3Q9MSB3ZWlnaHRiPTEgb3Blbl9nb3A9MCB3ZWlnaHRwPTIga2V5aW50PTI1MCBrZXlpbnRfbWluPTI1IHNjZW5lY3V0PTQwIGludHJhX3JlZnJlc2g9MCByY19sb29rYWhlYWQ9NDAgcmM9Y3JmIG1idHJlZT0xIGNyZj0yMy4wIHFjb21wPTAuNjAgcXBtaW49MCBxcG1heD02OSBxcHN0ZXA9NCBpcF9yYXRpbz0xLjQwIGFxPTE6MS4wMACAAAAQ0GWIhAA3//728P4FNjuY0JcRzeidMx+/Fbi6NDe9zgAAAwAAAwAACNCLwW1jsC2M+AAAJZAt9C+gGAAN3dq5XHPUJqMQ9STIE4h5i1p0ovAz2D6+0y6GAp6iGk03o7xeeJnNFlP7pyt72mmO8alQPFkcQS/hupH7h4mJTeRhtQk621kLNt8RFPKKRW6wQBeqa/bIUz2QUD/5/AKR9JghRtwUcbJYDG+GJMPfc0Z9+Ky2ZULlDK+ObhIm0waUlSDFaiGatI7Cv9YYX3GwANdOvfJULx5gqPt4GHqavREAVJQU2iOKP5G+WttIUpCgmsc99A8Dcsc4NyqwXB/Wn1HghqJQQTXBhrqdl+eCJeXRZ8bhBdBnr0sWP5YVPan+zifC1CRYcA7fnq256iVjYkyvp6grqbaJSiuDI5DbujXnFly7nle/W7NR/1S2Vof4k+CO61XnSIdtvxgWBwUWA46h0k1oBtMIQvNUXU33AM8G80Ey7IIx18o8b2mKF3zbUTMnFoBoXl6eDPvaN5fHuWZowtenf+WYDl1jSre9SqRT06h/6ZRDv7xTAHJNq6qxYSI0NftlMttSAzKr+nSofw/95u7GewZDF0yP7yLs82zMDY+0kJ1m7wus3HJL/RKeMZXAAAADABOd+97ZsfU/AetTFlL3eGUPI3gGHjOnAH31e4cNjmvsmesMTTM4eiERjIRWvHAU2TClT9QN4TxKLEodabOQADnwf0FnYOL2zQOiHdi3H/i0RT8Z6Q0OufexkjrfnBX8Ml+QdWQhPTOOVmynP2U537Z3NDuWSSw0CZz/THyMceaGg9XQ76ezrOt+G1EjwsVV9mb+q47cAwK/MLgHGq7Gck3N7ogAwAQ5YaQCO+lmuiUbPjz/Yd02QKOIDdL3mSY6VuxGFsKBYO8f0SRO+qjpT+Cm0RfoXnFLlFhjelV7VI7Aj+kvvWhqqdvsZh0oAjDuA/KteGfgQh2a4TwEB+IGv2Gkdqv3xJ9lIxX/3yowxySFuZ0+f1VUxedtXp5HyDwABORx1ZrGd+OIhIS8oWUL2EdmLP7P8IXICbCYmyEDV1ApwDnEiEFKoBVI7Zjll3KcVGMmcEDgBRlXZlJsPyA8JyP6fGtElmhHQ+E10HJ7Thld6rVLs/sbMDcspT4yhVk5V/cdobTn/kQ4ShBbsn1mFiUmUBjTYEwVOB8nRWYZ+fZRorSg+VbVzJwEziuojDaBme+4BQmK6S3hmx04jcjPXejw839OdX/0emPwxp6BBehtubLMbrrq+Kem0x/eRuI7IEeO9nvalmIHwarzjaNA80eco7v8zrqhCDQXtvbIBJZdISniHDToD9Vp42mUm6kHhfrXqeY8e5YvE+3q1aw1I3K58e2Q79VN900UgWF18QdfpQIPLBATdwg9uAABXVn0g9eAwYBDKBh09jReeRz/kgP9MBDPYe8dOVtgfULjZd9klC4VecBUoXp/+/Nxr25nUt3LNWyjZXfLHXhCqmA9rATdu88/aPY7n4+AGAT+ND337i/gEtQ4dRrGlDk61v16gcPogjUgVwKx1S3Zx+KKpV7WAYRfFTmnMBoGh+/rqA36lUBu8wIXFD8KGhlAtdrRoTlTqwsVDMspO1rMsY16Mzy9vKOik5cvigHNWkJYSI2kzf5xeYjU4G1qNAAAKeEh0P7f6H0DmPODvHjYSys6p7vhKP5r9wdkl+uV3Z6xqWa6/n2i3CaCbnaxxBF7rWQRZG7cyiWHlKfnkVk/FPmeB5yz60PqeexBVHUedbqSlUIFFn46vItwWNB5mdT+0Hk5XiCR5N6YJ60eWMgNuZunq3KmlwOgSF9IZFvTE5YmP/E+DqWFW25g+H8JrIC+4qVZU8h8qoFOEntb8Gan5nCwzXh2Cf1XJXipmQgC9UwMeE6iorSLm3mlsdcv1bA+L1Gxc51Egh7PKoDfoCfAMSh51NH/4r+nsBfaKnmjiSoxlIz6n6NnLJ6GZdgledksv2OEQ99NWzpFDN5fzOMEOoKSkP8iP1XiTAEosYw6eQtMq51ui6y+V8oEUBVHNLLXqOHl1oi/oYektmOyxg1Hd5eBPwgMQPWCYVYBQ2me0z2N0q1CmVfXrRQVszshaKzTxwLV0jPYm1Zlc8FsKyCo3pWKDEzPfx1B2sPBA4PZOmgMkq9HGsKIc5Sh8FXCUq8Iyh7v8ectcPz1hINsCBKl8QDSpbpcn5tIQBudtD7yaSsVO8xw5o3W2w8pAMcq/1an/tPs7NuJBW4O7gS7Ell7CnYIIZ9MO0OP1chcSVMbY/7+wVQ3c1Ph0CS5DvhM9iEbuhggBGVX1/BkWed0g1XrynA1m7mAWqZ34Clk+OlFhF4Xr5DM+q+Df2FUpysy1PHwPWh3Bd7Cki3d/K+SIDBJFHYxHM1tdUQ9P8ACdSHBQ42cYV6Ner4oK0o+2bcghkAIyh3zSC/X7GbWlLV95QLuvuZBxFSdTaYvSj0r2uByPQjOIrZHfhskOhfTZLNV5v/I+31vwyL4YwQr4BKE9JWHmxPEU2NFd2AQJNUpReb92cAt6hVXu12udLBXx+UfDnO6NARPTnYfwOZogS2uprKQGAqrqBMz0s6xAOG63e21z3p5AVddb+mqmUmelJz7GrVSz4MX+3DAav+U4IzJ/vfFD4V8bMz2iSD9RfPh2hBJaEn2DVku7rloC52Bf6czw4OegTryGK6hHumSJSD0VEmRRDqwj1W2uEYxgZ5nWiiZAnV/dNw4FBpjDYnGf0eoeCdV8Pf3H62OcAeLd75SYQFu1GDX+cMtaUuLwZMDCOr27Rb95Ax14Ok4yS9rVDbjdn+xXIL3aPCmFwpGiWj9X0IAjxkwPU5Q3DpSKwtnn1hpQAHb7VRd6vLWiquGKNsKhnYAmqdfD848xffseLvyWSPeoFhgZJm7pWnP7RsnlEVszor19i4JaG8SpB6oHAma2sZ+5mZ3BentE3Y5BFC/70Fg4nzcSfH+WEgaTz5RnCIwdZS7qXK484xv2U1QNyiL4lRE8MTm9Z9f+DsLRbSH44Xu7NU7itPXcZR73YXvsqQ/M7WMRp21Afj81jrXodsb9Q04y5Z8/rfzIxuP2ir8htD4I3KKxhmLWsfJjcNtd2OAF+Zu0Xk5asplaF0bDEq1Cl4fZFiqHaNzYqF9z81GWGdijm3fz3qPOQB5NMyT+R2ZsL1jGzD7mbzD3bLkTwoyXEZ8V1q+bZIn7RKYn1tvfVleNiAljTjLegyZQFap55cGC4xC0w3QTTn5yjqNeypmTUB0Nz9/bvk0H1fAwGyw1TC06BFNQedySTkKA+xEaB1s+OtPf8vNkXpX5Fjuhbil/Chk3aYjNnXkLbBhkP9lap4E+ihO27dcATbxoYiZBkNewn7RMoyWyUZnA8NGvJK1xqqCzC46d/zvFAVORiJ3h7T6vpgcDN3ReYHcNm4Rs7EJoFd+h+KYOvM6/67X1RthlbF56AJvIQ+MajL/GbaV3P6jGocoZNP/yk29MXcOXyHSixHZN7O+LQEGV3nun7YTf/97b/vo1VOAa4IsQ0lk5KlWt5o/dSGxhBOYEiIUYvxJ12GcFcx/paQ7paP87MjAZap+P+83+Q4VS3eNSfqbgdpP6K4E/0bqQdF5dJR7BaB6+Cfl/pHAAGnvC5dxSwZQ/USFks/Jy58WdOUDvVew2S7RaYhka0f75w83bkOjcm39m1XJQs14falCUaiPSw4TkmfnlYgoaHOf5HkBYhrTxnH7MhA97GF6VSxFZoOy53GJWyjRB+rPR6bSqfzIkEhP8xWz/qxQCL/0IpD2iXc4oX6VtTWwiKBaAqIQmdTKMw/7aR2fMpsR4C0lRdrGhJqhYZTNuYlBHVoY7P/H/iKGBUBifEct/hMAwE1n5EwbE0ZwvbIBTODeKruBh8PnAAEUC8ebFwlfTJzCUUnwKs2aSbl6BEl7XkilSi5lmP+pf87EQBKe+xrlCldoLy5r1jjIgHRMYtfLufVy96WIaHFdy0TkvQYz8fzY6nQMgkkAMhIE7tn4EQydvpB7N5eiUqP3KDIbOQ8Zj+RUKHVa/vOODvw2B8kss/TlX1OLA7S0ZfmRlRwLwY+gePZTb7nfPO9+yyP8U4vCuxE7oAgJLmmeNhU7YyygYxB2eSklqNxZliolCfWgVGUEpE0qAs8Zd/Ne/7T3+BMfaVTYH5N7j1KxiG3RoC+LIoMABCq+fmxrmNwjZsUOYtfS6jmsIe+GxSFzmXp/OZBgAvgxOif93G9JgrHxF9X3dK/Z+Ota+bYB5+tK8t85UV+IC72a9RFlljHb+46aoVz7MnEup+Gc3z89ZiTAWTxEL1+282sZPsOYD9OXKveflh7SOUSGXZ+8a9gnViQ3LH1GBTz0D1NCIIwGU53p8kR2eLBTh5pDg/IqVWUti6BxfzcZXLyW/IolERcHRFIwr3SmP9EmSYZlfRRlDMWI8ntoek+ZcydRTpLmgqDimR9pFvjDmvjzTVKrhe6PpldHUG39nZeFDD/Yj5rqtIs4YMbaKh6sq1ex6ov9fpJsi40Gwkj7kqpNARFP7RFES0mx3WkjNV0+oT/t9p6atdsCOv2SYSrdETN3TjWkvP3MB/a398B12gzENwXVXpzIU538AABaOkZR1WccI6VxVSF7RSTGuSGXFCgUzKvWmCCgdUxhoCeQJ/yQOjj1EG87MEDxo2qokPuFH21a7Q3uakFOnhfXq5z/IIAxVPce+MpR1681cT7RBq652a3u4fagZvdSasNb9pz7Zd1/V0oZii+dvveqoLgRSainjnIss5xD6REXNk2aflRLK5kr/xqVmeEEceQn/6lCZoXq7//x17RcY0t3/EhOQH2jBdvYGNEoTzz3LP4kad9c+5NScuJbQb4lpQioAhfjMblTu7HYC6GZA2s6wo6YAplFt1elTxCtSCgmsUjPc32Aorz4XtK37OlVVEegTfGfF09W3T+FI9eUU5udUY2Q9sim+SFLnRr2Oc5DNepIbGV4v/Y//7FJLCgyWf53PKvmLQkyPzkMJRQhVWy718xMAvTJk5E0EAkyzpdjDypKvAB1+fJpAMMbmuPXNllfVCL99SlziAqkAuM/ceMHn65lKdsJPyEJXDY8GORqft397ArxgGZPtbZl+Kl4TZI2ESTD9aVFU0j3DW57lHMvjVXcYzradHIeNDnUZyA92xR5WGa8qXuF/OHnrgAAC07LUyx0q2EZu3KCxiFdr5+W54HQlnJvEQ5b1Ob+pvvDbVxkqMqhLd/y5u3NqrwkNIVTwpe8EzM/esVdJT+sq/ZYahmzQcTKdruCtkug7DnPOl7UZOgCk6BENeDb9JrC6XYKP+/9lduQTf3hOJxaG+PtHnfbWPc1er9jKA33kZ4ksHpCbC0G8IxXS/WcaHyBhwD/9ic/2x5Ak4GAGw3i5w8LwdGJi6NVgytGM1Y81WyqRDmN7JdQ6x7mPywozNQLwj2dl1LKCINJXZpSjaR2j/K+aYEZpFxVB2Pj4wL2jSeNDsUsbJLrCawtTFsStdjbsLyj1BY28gEuN8ws1w99vZRXeRPDXwaZhB8o+Qgp0yOojnZ/Mu0NmreGul2iw4akVyZJu6Bcb9lbtvUPV38ByFJ/nz3TmHjJD2xwbd5CfMs3caqMbVWjljQmQm9ZEwQ191x9G+A1eHcOtQiE6yOt5CuBVRL5QW1AEpjiENO1JrfEvB+/fmsupwDFEmlVIcPQVgrsEyUv9kc6wvDuJPzpN1SlFEtrZmRSYP9IaeAQgAxZAAACg0GaJGxDf/6nhAEdmuEgpgDgAWHXFjUdjTaZPezzaVkTBBILBubiOBUBF+FWZ1iy6p5c0+1xU0NF3qazS/0C0xguHTtTKpO/JHUa3FvHTem2T7Uk2tvZkKXBuWccQYOSwk19agzoFsupK2M8gYfHhF6Di/jpZ15fZTl14FUHBhz8R/bM33+nc4vEDsiXTQLusZrK0PGKawr+cLOWqcETvaN/izsUDVftOItABKAECHZvf/Eql3/6EMKleCjZ3T0+KnaSIQEhCLiDhw9JuEvA040auNQrrskL9wlyhwPrdZ9Psm7TstB/aG+ic6yUy+RBBYNopr6cYNWOx5IXKMgCsLdu7m3qH+R0RutQiJUtiyBXuanPYK4TJEXqbkJNk0ll7QxkAV7kQGeMHhbGe/Ojj31ntTO69DCk926KO2TQiNpW/Ma6FHxWwx1KjT9giikEODZV0YkgvhS4Urv0/nRM7cBsLI8XWjgW8c11AFIbkSbofYonOg/n5x/bbd47mDb58LYPg5fN724iCrylSIo7mPteuTPHSEUhzgltBVB6z4oxJYqR8n/0nVIYGZvEfPMm1BtaZ4t8Aw4AsPRanlMX8JIQAju/To6Hh2iw/gayg5WFBzBs+qjMWVCwFgQAp/KViYA5yamt+WFBY1SL+KVxgaK65HYd0cKBU7DdGpkQlotCFs3cFSG/V1peX5zXLZhw7h0H52gBcWXxRmYKO05vnScUGsySC7nB0+cjdOBbDB3Tzmiyg1DgpdzsEVPHXNMDpON1IPUvnsOrVM66Pr6g0ptH0sG9gr9Vw2FtznPSiZ0ettFam4vYl0Srkiayl1+6TApyJ1fKUsJMzSK+h9kFGdfTL2QAAAD1QZ5CeIV/AA2A/5XtrIFcQ4xEp9kO8Owwt9r42Hprhe2cte9xkybK52weA0NZ2u/l/MknQ5tF0SyEqy6o+U75egPF4YzyADh4AkMw2GBmXhmEPyEt6oDGQfC/YwbAY56N/affSa26s967ErZa+Mdxy2PJidSSu9oUKHqpiXVUiDtV8Pb//+xoLZQ/tGbniUR7cwW6yePjQoSyDgDHRI1W38nT5PBdOSp1tz/pYU8uaNu2QwT1/Ja0I17ip336jy1bqvsnnnkz2jmQz1XytvLMSJrXs9OX9GH9dEtBu/cW7k6MKNvUmZHquurxnncC935XBlhy150AAACWAZ5hdEJ/ABFWk9vkvsLdwvYxgwZGXgw6D521vGfLnPULiJD4j1XQJ8nuGqRWxJWGjr9HoYpiiyTd9u9hPrbZoB+FdSszngAm2JDEGO+3RbK9Vac4DQ64qvp5AEnxj2mguYTpdBzJMLv9wyuYvHYgHGfNDv3srCWnsfMx4+doA5UccXXO7BmxVdxuI/ce9H5A8mA9DWo6AAAAdwGeY2pCfwAGceAmd50a7wPjYgqP2F4EPiowvBwMcfN4H7hA1KPx4eL70iADlPh520/WjUZFFiXQIlqHsyeFitPtFi+bT6CRhZXwEqZMzvAGxAAjgWbY96hnK8WKvrRrHZpvbNgLTJDhUb8MwOszCQfmEJSYA8vBAAABOUGaaEmoQWiZTAhn//6eEACo+798d0/ixobCNACBIXIpGf6wE/ErW16xmOEgA5o3PTndljvN9LXNnCz2zOIpr3uwgJh5fGyN5gRjBU2GTkmqlZRfFV9a8PZ5LF77++nnLc8dTSJDxyg059XvG7hwhdzOGB/Wk2RVg2qsIurnQzFLtXhVqzU4SlF4rFGvLRVscuItItNuiK+dqrvwlVkmi3O3v7mfneTka+Lkoh1BI9x6S9j2SF5XgHRdR57D//5oV2ol3GR1mYmmgvUqbEpudG4zVzKEFe5A/G6JxIG24042TzEFQVeWf86SjJjzfxieIpO0qdGN/oxwkdNdksoWfCBmcjzWJALphNa334TL4i+y7FPj7/Dmh5s3qbVYqvxJH7gDhjwmlA5ny/Sm6QIG3ggWjys+hW5HwhEAAADDQZ6GRREsK/8AIrI7k/p97X2/DMa8WA8hDTf7EJmwC5QX+XyD9WDIYj8X1ihEmABDRuCrIFOI0qSAckaf7s+wbyVi0sTIpaYFmZPhlGIg7b+0Ri+RNjRUrzToiYzrIyegYyW13sjwaqE5orIoHC5lkJ483prGHdkw/dUxLe1i7T4YR1WwSqTdsG6PQPtjP2j/kSLUbRX3M1bpHMsLg3ACq+smigea/nZn+S/IKXIJ++/eUsN2w5T6XxLjQNNGT2vk6FxxAAAAuAGepXRCfwAGb8nvIuzyTzfG/RzohltDg848TofJABzQF9FRGtPV+he9ZDuFoIvREoCsaB5pG/KK11URaGwS4CggkVzbMUcCjOhizqN8JUaobBw9ZTNLAkHY/221u2zBJ8hGVeOWkNIADWl+6IFw9letgt/WAACZQJRjxbn/AyDzLMT2hjQnt0CTncRnGTOdZ5xGNhO3EeA7co/rzlmdjx88d+PtRpYTVhhGDadNF0v+22H6Yp050eEAAACWAZ6nakJ/AAKPb+BrpiuE2JfyuLF7vIdKW4NZNfqs1rWsAC+Y99zhwHp1U3L6HPgujL0T4vhUehCTiesQ2VwpYrN01Qi2xDLv7obesyNN/KZdyeUNtCFMWgwK6gb6Bzvtv2e5ul7JxSo8xZ/yWS789U17j9UA0/89Vf0Ybe0SczPzVzI9uGy6t9sMjHo9Cm5xF/Za2PGAAAAA00GaqUmoQWyZTAhn//6eEAAAAwACor3CUN+QCVltJ3/uxRPD/nqs9upBgMnGaC5sbX87vVwVdgvvXsv9QIrYUWKbkN7J5E01pyVZxTAbZbrHB4zUTUxMAXiIOtOlXLlBhPjkBhEl8JVwhI5wgxMuF4+J7dCVPP5jQLi71fj6PnO2kxhqk9+hzheLAPKw5dxY+2VXoh+xw4mznqaGCLh+am+ziNnCY6np6xx7gwNkOuuUBumACqYzPePn3tpZVDyhwCeePIZXmrKBRkHGjNdiqLv9CV4AAAEzQZrMSeEKUmUwIZ/+nhAAAAMAATUQxj2csnaAIPR9SkBwLWths1fiC5/vYTzIBlvBQKd+RxVxe88N5u4nuTco5Ru2hD0l0bC1WkKc+SGHhmNZdcBOeWHCOVNVsg/qXLPWhYQ2HWlwkU86cONxUe0Dc9t0DtLq3VgWZRAI8cJPirmJdxm0hBt1a+sZMq990pHrQqAOCFRBXtp4Z/caAfHIxERxQHPVO7XHPPY7Qe1FYU4FDIIeHsQ17e5YAkt+FjPAnX+xo0Wid1O5Q2C5DwAFJToL1yihr/lhnUxrAokCLVKHw9vAcVEHKUA+YAJCzRkZLLAELgINP4y0Nsk8ZJNhiU4wYxdWZmXFMbLg2NLE8w5yNaCUj2aFhKSCJqrQwy3hI1R7qCwcL8S9XFO3wMBj1A3zvQAAAJFBnupFNEwr/wAB8Y3YDXrDIDBMTCkugJgfZeHyJUeqnEYZkrMWCqVbCqMNgVe+Jgkim9n4RwJqNCZulgKd8HgAct+LQayVG4EJBPoCExWlh8nf0mP8HRA9ypcTSfKfXKs45hlmQGp54ntpkvBypNzi10r6FywK38aoz+8O995oxHOvfCzCl16Rb5W/XNH6iV3gAAAAdAGfC2pCfwACj2/ga6YrhPqN7A987HdHeGUAHNFb6My/QKj/Hd+LrDk9xAHQISUt5vmdGSHE9eIkKWdeHYkS8pbXAy+0HXl7A2QUDst5zuObTBGEWp3lh2cEWAgoosJQufUUNe+FNN1Hp3fqJxo69/FkZpr6AAAAz0GbDUmoQWiZTAhn//6eEAAAAwABNZBYMGCfqjYAEPkcqvWmFgVnGBtOrxlci8J/uhDUfEUAibI2ccmmo3MjENMaXx9o/rGLk9ztg3VCUBUdeiVCu2JLbv6/csmP2gHfEdRysxoQJoTBE6Q1dvTVu3VkNXPpIK54cydSQU4yTSO50xCkG9PHUne7u79Z0lK4EnSsViUq5nLxOXHPY8Uc2H33BPsVNQwRCsKt9SBDwf0ELE2pQSm+9HV+m7MHDLmLRlfHvY7GyDLBuKib7zqWwQAAAWRBmy9J4QpSZTBREsM//p4QAAADAAE/OwXOwEoABMNO8/pzlOly3H5FOi8o0bzMVH96HHIm0vpTnVgKw2csiFcOoHALKCadzDn96UKz0zmSrc3WyS8D1+RLslCN1jK9XgD5tUJ6ufSs2uL9Cx52Dpew74VZ9R1U/ZTi+mnaNFG0H5k65Q72dfXmQyxfRVejeoQGMYLP4z2KGGhJwxFynqAU90OuTXBgemEdgU/QNkDMA1Ki4ON5f+lftA7cgMAcEu3TS4v/1RYF3AeoEwi4Ik0au836Cp9fVJvuAMfBrB1usfwMceVTI5n4AlFQkHVcW+qlU8AKpVSr6ogDooV29CvPVOfv4mb49eSqQwN16TgVxEqUm/2fnLu3eyyTxxkav0nuoC7c6A3paUSJVKtGQ/XGsy6Hs/4KbGc6sNP+uCG50vWBb3itn0+CgBW52lVS7HdTADKY5zYLZjAetI0dEXSjpsue+QAAALABn05qQn8AAAMAAFZ7ndfBwfkn/tMHRHDWADeED00YbxrmVGlcEInTE5U4DlZOnP2SV99QZb7E7l7SWjXqvfgANeyE2BqbF4yHKxeu5oKLsbKq+8PBYrnd4B37vh7NoITsVFfwDqCbHIKo5tfVnY8i7PU009Y1vCEfdUB4uFI+LS1SgAj7rWCkUV9++piRlq90YCPk3r7PxRW1fZ483+ojfZlbE3wjVyNZXyxvQ7fxwQAAARJBm1BJ4Q6JlMCG//6nhAAAAwAAUgrEGCud/daQAVJGWn3bd/FwfGCJBx2p1ZNN3cOhdzKjkY6gDer9dgTxso8gtCCsNvsfOUcCbEvwpDTBqKmq6Teen12pTr6G4fR41qvUhiTwv0mVa8IYfmhqLDDklHg2hIV573t+yfXdp3EwT/l/6bfjZc9dkyOemypgAYX4ZS10JcX+WWO82qn1ccCuBu7nMbvU0O4/jJawkdp492xpvhCO8zFn77f/ApEPsfn66OrJKFYMlv9rUfg5FpUhdruj3WXs19rm1ZAee2l3KIecdQxJAOuY1yBeFn3zvbbCGa49k5laRwmGy56a+PlrYMkRBkul80Q8IdecJno3g2+AAAABbUGbc0nhDyZTAhn//p4QAAADAANjrn51f/XTABsXZKv1meyd4K0/4iG1fqHcmSJ8cK87yM1/S/VBKti3EwJErJpnYePnMdwhr8oSMmWYLRLaPmjdtOEXiidctrS+1qMMwjJZBol03lTvHHdrRBL5dXO9fW2FlqYYuuv8anRzfts3ETGdLo8we4U//VIBOcxZNnZ+p4Ocd6XqK/9tn5oqv+HokG1g3TMVP2JMkPWYaKW1Qx9QqIOr3qbD13i8JQbWiU4WkaUjichfj6QC3BsHsWce9zULBjlXiI+lHG7fwuQZH20OgUqiMxn6rJcwLkE8SMSZKp6Hw5E4Us/WPzZeAbD7oWzBfv0ea7x+34br5qVzOA/QmyuyWx3IuxulMKOVEZ0DPPDKtm4HrpCfUVhSqJ4VRescGr5X0q2fFDqDUCXtlg/8H5M5j1xevBGZEK9mhCWn4XV6sUJ18LK7zNTwBMdLlB2qgeerrpVcLQekAAAAx0GfkUURPCv/AAADAAC117l/2rPwYfk/NPeyQAhTy7OLufZxnQztQZw89nW8JauIaGu+iEy+Lkx7kE2OuxgBFOCJ3ktKPyC7WdajE99Asmi2jxhN4Em5QKDSll16utlFFigF3m8oa+WA2t0CWQem9IAh+CYPwqwfbr+c8PRDPut9znuLvIktB8eqg0ZsVertnd7zKIKfZrVHvHPbmV5FspRI8dBpY2zMzwGIwogVGnuZmUCZt47rLirc4FH47Thkv7lY+gxcvKUAAAC1AZ+yakJ/AAADAADn7DbpBXgBumX+noY22w0g2dwQnHnKjVP2ZC5pMbCENVOU120ZJHOWBDysyh4yr+KoN7WT25EUe88JGGw3q4BtYdsGmuaE5X7VdVp5k7moO2V2m2ETJoNTj+FnmEH1O4YvTHqjxEdS6ZLeO4+7qPM0E8Flr2m7RyBDo4a3e5s/Fk+x2RKNEQ+Sv0Hc5jK9JdlkbCmdgbIHaOTOKO/rkF7tMklbTy8mvi12XAAAATJBm7RJqEFomUwIb//+p4QAAAMAAOIDQW9kANm/E0cgewb3UfJ79k3N2EsdwrRKzW8BfN0cz2bdNlaDlIfCbKknr7JCCljrKng3zqbSBiMr04fb+JD0IvWLGORT/krWEm8WaZ87Erky2LjPtaNJSnvPFRQdWMSmEoQfYHrciLJwFjCmTszjlxB+rN5GDk0YENQiQMhE3sH1Oee+1OzP6cH6qKGmRYt2Kht2RXlq7B126ox+FVMICJ4kssL+hjUMlnC18ff2asbW0g/wUxcZUi+CKa8UnBgSY1S7SByBR9Tg+aj/rHzG8a0XbimtJxahZ4Ma18aUp/86aZ3sBjOJS3mTgiEBshiHybCHAWFXfgpp7hc3OyvXcG0kth/IlGyLcJumI5ZaCH/uDPZSfLyyPifmgHwAAAFfQZvYSeEKUmUwIb/+p4QAAAMAAmnLQqpnAlzXurqpgm6AAz2uhFsO6fDKkA6tpjojheE15EIXyPctd3dRpA9rdRFtYyIf7c59y+rzyrYXw0rjdSltFXad0q9wDKx5r2QeeIqzydhFaaZXkyn6PhvRUMFecEdesvx07IgN8zPTBctRAi6UcS9RnUznBCHg67QPTOcTWIICOegAirkl0bvPtCjkcKQZH/1/oydC/bVh4YY4zN+KnUOOqMhlWstjibkG3EkitWsK88zAjO30DYVSYDbiI7d5afUcmBF044puglgCrHtySdQOcOKDtH5030wydFOoTOVWnGHFg2e7Fk66WBg843mBUvNQnZVPiK9x5fK9lDdBU+mV32mpc1O9XREpi1YoCipt6bcCutUfg8i4n1n0AZu12Tz3bF6tHdE4LnnuniUXCM6famwoaMw0VQqKqKtuw3QH5ZRzfLBaSFdpAAAA7UGf9kU0TCv/AAADAAUev+cu2Rh2jlTGsiR+ALSAAnSw8JPVcFdtvpsNbTo9QsKJmSRcJQUUCXTFgo1yqu327j2R8SuaP5//R3ZnbYQX8nX70H341qimXECTy6Cidv3p41G50wYNV9Fzay6X+pX3A5udP5jtWANGXbnsIIE/tIixQ+9hfLempMXkx51QuVlSJA2m6fjNBVsAbaRIt/exO31MsA7Nadw18FQ7YWehnYJdK55ihNFXCSud8/vU4LwzFzjZTRvg/QrCY+up9/pNAGAlX+VkyRlAIvnZox5fIrkgEjEboHVpatl2vPX9sAAAAKgBnhV0Qn8AAAMAAn2k9pKMz9aValg3QAF47kno5Q8mA+Vc7DXkfD6lR7j6AidpAeBK9aIvy/zXGX2iicQCMFZTRn/34dkXz/OqlOlShyU1pxVVtviFw73fD3wRFFyR04De35Tyj+/Rw7a7ZkOKKKGFd33+V2zkCwc6IKffIvP2TyeKQiPZDskSNcA0xbyug4LvbBbAcjJW+3cVXqAlHVFHrBFXuo8g0WEAAAC4AZ4XakJ/AAADAAKOig81SvJJo/wga4FVoAC+vLfRnxM7fcpZjcIbObYEfO5jkmynlq/EdeG+z6bLGeaOzCsncIRD4xh6hBm96ip7PtAAFyb8OwXiTa9cNfRXT1gTFqAxUwtLgWeJLGcpTgbxkqwIjUjDoRGJamb95qDuPlu8cYxjZz1LUzUoPzWdQCtzHJtuGP8yeVj/31dHXlPT3xijArF03OxrYG1ag9FfTrUubAtYP1o/FxWiLQAAASdBmhpJqEFomUwU8N/+p4QAAAMABmzXKQMAvUlLAHgAvO7Wn/0TGPHSn69Mitv8J8uVyyYCFyAwvbyRni8wdewPp0KEU956/9VDK+LE1jzDwqnG7YhBjOlIK3a462WLYY4Mu+ZZjU0aCUS43XnJVHDdxRx2dnCCX2S73PovcmLT7MPKwKG+luB79G70/Y8XZOhajkR9xzqxWuFKkOAfFpg+PPCe6q4RsObKE2EuE4JddXpoilBcpTQ9Vdrl9aMQQ5cBDEvs6TE0QRQLL69IELjP6tORTaE3QepKyZdktJhcIE2U+YpNrvZV+KuP3ZQrc0VPeMeId+AwlQGB5SbN5CvYINkRTnbEkeSPtj9RRaVbuUgaTxXgdUHYiTYj8iGgJms8SE+O4z7gAAAAmwGeOWpCfwAAAwAG6d7OGxoFAAP5yqsSvdofknRofZbKF7VV6Q5T0JXHVvmjvyL7UrUZvysW/O3ds03GGc211QpnhDbViVae7fOWayByKSO+XYkaiedDG2ntrOb3hYPv+RpLYKX81SsPQtutZi1DCNRAlFWftt/XIPfZlTw3CYjOlOGrLz31gifSpFFOVet6Hg1EI8BgskyE0W/BAAABHEGaPknhClJlMCG//qeEAAADABHR8zU64qXoaBpihkNAAdpWVBaDmwKdb1USso1PQD0lVzSPSZ5ZEPlYL4dKv+9RBG3q1j1GMlnFMkM6/U+8dYCugr87ThKt4ISC1QU1qDNFi3og2f4t2ykffFifmRbfcaevbELYH9xrC2TRjHnVa+0hvdTEQdudjCYg8EsEd0W2ZVir4fxvVmVfeTnxdPUTppW3uCZIxRNT+hYE0KCIAkiOfaoNLxF98ytz60WwfbiJS7TVZdQDIm38bIYyQ8wcA//T+UGx9MkbRN7fVtOGTE9yQvPAkRd045GkowOHvyjT9KOUW4pc9fKgJlmz0uq/IV3Het5gWmDtjiUU50noAprR23PtPIXNWhe4AAAAsUGeXEU0TCv/AAADAA5eD6yI/8VuoICW0wRsO+YTKgAIDx9anGowg0t0DssCRhvYiu1Hq+JdK4gZI7zJL7wcHcrIxdY1lmrnJ3BhvcHYDB3bIfKiUcgyiF2RpvL1FCWnO+EcjE2AOCwyS+lFw3rWVil/T3/X19dsy7ycCalzp5vdG1rYx18BTEYxPw7VTh2VQNlCxD/L1PFAGXFH2D90T41ve8NvfgROTXlXJyjZ2cNH8wAAAKUBnnt0Qn8AAAMAEtaaC4znHwsqNOwLLnm/IAOU+PCOxdaTe3ySRzyXdgHPTGZt+GlC1SuOmFfuWohQx1JfCT/cybOrr5fVc2e0Py7YR5NwDCAFlKIb8ts8MIKCZWpqVoWY+nnXMM/DgqFF/UBXAK6JVFrRXVmqwYEjNIReKqhezEMHNGQ904cUvBZ3l+o8glMJ/CEBM3Z6hXM89VmrwHJz/SdBLMEAAACGAZ59akJ/AAADABLdsDK/cUAAvUngTkSButEH9Qs+A/zcmBXu8QNodkkj2ay51Blf0Ps+M0td7XvrfWu/R7i0IC2SOOrFLGxhXxVZYvKjCLSmRUikO61dYrQrA6aUHXvnGXux61NLO8wsGyTo4MlxNd4aEtTDMgW13ElfmaDLGmeQn4s6S1sAAAD4QZpiSahBaJlMCG///qeEAAADAC/iaaOZYfSAEKe5GXy6gZ1/jLzxpoE6vi45zBf/VnMPlR3HBRBtz427LiRWb2o+sBUQ0a/6F+NtX7w2CSU2Hy/a7E/nUAhEfLJhjBeM1ZdGpzlXntS6dnNt1PFu7YLuZ/JP0aWntFTVEyDMtovSkn3s/DSJvv9zc5CpDq4H057CukjHcs0cW+F++9M8/ob/pr4/+H5ld8rFm/srBEwhzVNBCt69tMi8wTTBFD4yXS1Ud0sN2PUXWmjLxxUkCu5oit6oyuGanjSu8YakIKNvwpj8klfad+sDrVZ98WGwo3hkB8inHTAAAACiQZ6ARREsK/8AAAMAJrrnioOC94ATS7dnasGHQyikGDIncV0tb55XnOoVadjylzMHXYaqW94jSPtSevFfIiONALXiyMfdOno7pyTH9y27436i7f/T/RdN6SSugjXP5VCcthlkqsuGS/WkOFU5TnwCaZK8NAn1b+Uqt9No/XX/MFmTQojD/IKtrepBT/nqeojf4zSLSJkZZaztCcRUKW5r7eG1AAAAmgGev3RCfwAAAwAyUvxchE/XIgAhGR4iUSHNh8+oia4lGaJWlW6fLiwyrWmOrsb79EXH4jsKiQ9FG9smUUx/fVudjg2p3xGjHEXLbFxD2A5TEzYid55glUwJQh/9aE200Hg2GCCxsB+VoxLMu9lud+nyPV7BOvO9DyVfEsOyUopg+ezq6gnzWnBG5rEdY3BJpj4UBNN/aU9TudAAAAB6AZ6hakJ/AAADADI++aFEdNYABtR1PCRGwPHwt912MVW+QFtGle98iLBhqO/StKu7NAx1aKE36pRQtByzwgqcp+NIHPzfQOCxbfRwicY+3Iti3UnGvc6frp+iRJKIf23jLcbxWh7I9Y5FgCsQyViABCs7+MhQC1npJIMAAADsQZqmSahBbJlMCG///qeEAAADADDmuqYf5bqcHdNogVDU/ANAAhxEzlf2DZ+SBBd/13kQOgSjKjB7VKG9T2pMYCECkAd9Q+cWj+ArO1lp2ktYC3wrVGCvA++KTUb3m9fknq8RSFdyPlV9VhDdUN81yzdGS5u38mdkSYABh84BlnoyfY75f8qji0T9Xvm22zrT0oHczj1oqYbwhSmiHJqHw4F+fg/wsNMhppsSk988RncUflCU2YBaQwWy58R/q+aBPuPruqDdcKbHuEj+J31+SioT7y0W/HUh7svHiv8Udtyjd6WoW9EUb2tgBTAAAACYQZ7ERRUsK/8AAAMAJ7l3ejFsAE7QEE3bIBNCHdQ0sZ1v1Di8aSb2PWxBTx9jr3SgAMcfEjZ5g6I3bAa7648IJhxN8Ka3lvbcXuv0rZvPat/r3flpnTWs8kk7wkbr1kNv+pd2XUNBrQ3D2xh4cWA1S4IYwAqbF8I++hjIoHJdSbw2Y4MKDtbAyhgy5S82mz2hRUW7QD62dycAAACKAZ7jdEJ/AAADAIL7yKIwICjEpWZLAOtwAc4Jqg+PaozvVC4ALEqc0hxRy8iNPf7DayVPHmyq9a0JHD9lLss+8xgKDne7MYgzAGr7VCBXQNL5G9zZaGoi5UOhUCV1w7aX+MCIY1CUtkSfePpCkkaT0Wiwbxd3LOxAnYKGl0kchzKEpuVe+C55uEotAAAAfwGe5WpCfwAAAwCCxUSx1yWKAAa7Y4W/v7WkNcdcgpi/h+Q/58+Hzr+8+v2/7MmCmiaRqQZYKNw6KPmEPMd1ISVtlajMdhS8lYK0JRQAI69yQ0lslt6x2XlEm1wEXQFa6muvKRpmg+35Ay5lUxfPk5PDndo0IPViZ7CQaU5qZg8AAADPQZrqSahBbJlMCGf//p4QAAADAL8JgP1R84DK3gAO0Ptuwx9zX0rutGFfSsnIAmBONMz5yUbg7lvUhdxQY2+QLJzE+5Dn4s8CY6oC1TWelWAmDzXx6OiZj3LtCzuYi6cNYQuDbq1jp+YPmoEskvVNVODB0M7LPVWUVafEaep/c83IzPsHgyWz6+a9eSDO7/u3gwRHus3aKR3q1zJAwTYAGC/bXc9B8K0H3fmXJjBz/U/tgD87c7LBUfhM+W1AXze1RtS7NVu00kGfV2v9zZGrAAAAbkGfCEUVLCv/AAADACc8V7YSg9gAnWfJWj/DHchvb9LXDSzc70KtkwkZPGBxabIrOwHwczi2DSag8gbTWcy9UdhLIKG/Nf5WLrD7j1UHosvilGjv4vF7enLCut7WQ9EHVAuLlrqyZfFCb5uVTvgzAAAAZgGfJ3RCfwAAAwCC+8iyOWc8AIFkeEgpQbb5N+1PAGDtxDM3tX7wTrVPhBlzCGpgGL1GYEt47re418m7v5JxKkJS9u9Mt/JsWdvAdobtsP2aBoH61+LSKRAuf+KgbucuGxBpVvLVIAAAAJIBnylqQn8AAAMAgsVD8Hmkz3zwAmry36TYiShZaxYJCdFwqhrdqnpEn49kKuY62p8/qxfBWwcE+1rw7mLhsRff7TnVjkjqWwI10pSk4SXUZftqy+w5W6VhYFnBj3aRbbMdlVZwQ7KP4vzW+S+ABe3BIEUUfPWHyDNI7me9RW9vbQlYdvPDUm2wgetikQPjencZgQAAAONBmytJqEFsmUwIZ//+nhAAAAMAvw4gjJ4oHBWABOPOC0k8VH/Rd4jID4t6j6X2C5SmANGd2ySmnKrI6C9sWGYi2ToaSxdTuLlgtgTv1PWP4Fny3SjJqtD2SvSvupbjPMt/o1wvz07Yjp0l25Y3y6N8jirsATqENMpz4Tqckp+W7X2B0LkwEwjzXxCYQw7J9OmLg1r3Pxqg/z70gaqJu9iib7Wcg9Hgse/3qdD1xU5Ho4t+gQkpmWZ/fkg0xYN2KPsxIOEA9m4pOGL/VTB0qZWhLOcGIrZq0y1X1C3nHcLqeHsj4AAAATVBm05J4QpSZTAhn/6eEAAAAwC6+79YNkDC49Bz3sAVLWrMPJhd8bFb2slUi7apvQaKcC2O0mZC9zTQdncwGg12XcpR0FHpdgrlNEl198hYqepQCnCOfG/3NetbZdoItsOlspgOJF098G7iHio3QRAASibyteVUvUtA1nePyMsleafWSmdG9R8U3cKnUX3vSVdNnME79slQTp2r3QzqSZpIcuLGVKcyC6TDFjAb+3fi6USfpkXwVmWZ8inejhR89qnScpSSyjDoPyOYashp3UBN0QB5XQSTP/H/7ugpIjxbQv82eIKC5H4zrDtF4q2MoAKqamqxviyBVln6IS5ToepcAbdroc05+DWI7/GBS9QR9SOy+1c0Z0UtA8+UpyW61ukVUvVWpyLZEO5YXSR82Co8P9i8N7QAAACWQZ9sRTRMK/8AAAMAJrIbuQOC94ATV29rS1hkNm28qDPk6aFWpy0U4JPOcBOxKY35b2yleQfcpcyq9CxdDkiKyETs8dKpaJ4BZ5dHkP0G+NtTBeRVK1UI2t8tlAFPsYiKh2CGzPSpwMrqj/2k4G5XkK4AZEEOU5Zf7fqaaLsK42qY+OL0JxNyFrrGR2Cxr/NncDTATizBAAAAowGfjWpCfwAAAwAyQmRr0J84EN4GgwWAB2K0S1LxZ5QEouW8db5RzbLotZMFfHOu8yZLs+MeFHRfblLGZTyJxv5JECHsfgDqOEpH45Hhq2PxbuVDKwdy+c44ZWDaLs/vGKQOrq4JVXMZ1JtacAq6LM9+J/aTv7JxdwytukA88fpBPGiMRZQxGwD/Q69yoXWU1KA0y1PbHeaHCMyEuWkN6eeabCEAAAERQZuQSahBaJlMFPDP/p4QAAADAEO+LEwbIJuAYRwGrd8MDWD0WL7ACH39XHPthFdDMRoGJxsCydPFHQVNcbhlr8j2Se9NhRAIpWxFVCLZSYUkLr+dJVer+//3llA5bfOq6U5OY+Mrhr4BFyxbuHiTiEtnuRLbEdKDPxC8bxy/g0RhHOd/4A9LwjlKt/jfuabBHoQBnoTwqw31YkCHK4SNRHaTRHztlJzSIrLmEIk9KryWNS2+bBjJQafiUWEXU1CX2V62OhqxcdFxnnANsPnlIGdTXx9avxqMuHjzDew1qUg8vvWu8UEpo+zs/OmeyqyRPrlp+39iyk89leLrDxEES5xMsOjv5BmdE/HinPikj3KPAAAApgGfr2pCfwAAAwASWIxE1MQ9f4PQx28np/kIAHZFb9ZFgOs9UfiNAJczjO58asLzf2Kb+EGe/Nlr5Ux80Nxqp7DscRYPcct/qVbGKIDAJQ3mGs6F9BUZaR9MTOoSggHrgZNqrB/9bb7ji350jJl4tHX41iPHvuBgOBByXxKou98xSFoxiEyn2JKK4alTyBfjEzkb5PcLy5mDDdz2240/hduAebM/GYAAAAEAQZuxSeEKUmUwIZ/+nhAAAAMAGT4To9EzxdNkeeSJe9IKAEy84LRCfhFJp1VbEw4eEADnlUCn2NF/ppLRgtxmpnTiR7pwgrRAeQddRBoCR2C74p6f4wdFjqKGzwlSoz7hSUVPVvKaBhMqVFvW/8x5/gHX4RWuykJYuulQ+1kBQLkrOm5yZo0TuaNshwIcuBLxGyJi1IaHpBdSce2BespvY5V9zI+IZVIDJdemW4uJxHGoROyHwdjG5K3s+PodUuefNUSQYSGdBEkfsSP38TEcBgMuKLJhlAE7grxYt1g3Wo/Qe+eiHQIiFjzKZNCi+c3WIlLp6TtG4nz08J3T9FbBgAAAAPtBm9JJ4Q6JlMCGf/6eEAAAAwAJd03nWotVkGEAE60fSd1x9C2hjnkR//aKpbbrf9tM8YyBJbHeemxXpH3gqC9oYlWT4XvN3yUjT6tuxH6uZ6SPfPA9c1N372ZVPdCPsJl+pNLn/P1er80vkqfiryYnnRuf0RAOuwjFfE6nNAcT9DsBw6ONrW3OX/q5iyW9O4qucME5/C6JhceXapNHFTjX7rdeU1X2mUGKA7xn/+upxilDca2F/jAClwDVQlHocskG9gOZIxGOaAefj7UDTDfjTd2QDg3EZtQKd0T85XJEBtTfULP7ki17HitHnwzabIfkw+C6fOn9RTPZgQAAAWhBm/RJ4Q8mUwURPDP//p4QAAADAAk3xYveSg/LfZ5YBA+YEAA/dGSr9aRf2fnvR7FBqLE7Uqmx41UK1UV1pq4xn+/wjDauZTsHOXbEOxuVzkf5UMfeRJEmhOZz/ZiCr2hAMHpWk/rOffnd4Zn9fY9llMlWkQa6bxyWSqVeJhttORnHwrlBSC9kcWpa7NtX+BbFHwB5cAV+M23q3mFIP6tIK9yKpO6X5rnf6Ia1ZU4qvT80D/SHCdk/fNeyHVIWEK4W7dTFY/Pwbk2Pgs4oXDkhWwNdIiV9e5qkvkU9L2hxeVeWkkH5SEHzPXGAm8ZW+GEdWHRI4r4yZFDL+hKql3e7xvolX/4+Ar+1vywcfJqEqI9nJmpPr9IBlnUrhO5KT4p9caOcUnI8NeZJ1hP/ELtIwIY9xV+haz4q9aChzECsnFZKqQopCpvwwR1Y1BkToJvbLvJQVa17yAVXVaScPgL0Wi1B3BiVu2AAAADZAZ4TakJ/AAADAAJ8wkAfIg1DlwEBJJbQRWWX/y3QAC+vLeYTK63wvCIxxjz/WqQ931KP/pjAbt88D/wOPVzA8wV74BJS0hNeOP5+ntT2y1Ff/WydL0xfFSBj/DCXGr+SPxquLdZU5SMUkxBqDE5TUoolzmxFxBKEY08RAuNJfOSSfserMtgQgo06gp5dQZ8PFLXVzLWqWyaOS2zqElrw9KYX4MKyHjSg7yBn+tfnIS7wpOCnvlI4p2YZ/oX9Q61mqZ5SMWzAadPIU7wcGSkw37Qm9SFrvOFWNAAAAQ1BmhVJ4Q8mUwIb//6nhAAAAwAA3fCeZrBOM7DKCQIpIgAeFkUb1PVy+/G3ztrknLVNlyHSkTMtLNN0/H+Jto+M3cOK5gpYGzUi2Zm9nv5iTv+CZHIfpOJWDXnk+0PVhSknymhQqGmX4hozrFb8AXE5Ja0FtvPxtiJfduGaL3Adve83ZbhS5cpmeEhv/n+WsXBWgzSKYRZh0Ih7my9EQPjFN2rZq6+Z7FthOs8p+pBoH5zFHP1HOv+vgxzUg0uTCTYaCKOlp2S6w3saXNpqpMwijK+W5Y0d2nOerkrVTIjBnJWTopja4inHy8ZEFGjI9kH6HFZQQ+bB1VZT0++IwokjccggZjjsrHevkLTt8QAAATFBmjhJ4Q8mUwIZ//6eEAAAAwABSPd+t9KMX96e5gK4QMAJq9eC0eSxjfU33DBaFEl9+WdJpaVKYQZtqw1YkPoTcba4aSDAh1BS8PvWsyVz49JiSZ74xUa91WbLd9mro1HYQ/tfitB0XmL1PVmcfum7MEe/5cts2hw85Bsv1gvgcH332pPhVYNN0LmZfs93lvh21XqaTca1XVRr7OoiNeelsYBDZLRB6D0e0n3oJFaXktOK+2JgRmalCrGouadLqIe7LJmJ6eeXkBqoDAKv2f/xbAhGS0is2R9QHk3mmJqBFAHJkqPtznDYuqNhUC0QDAMCQChIqFxBf/P1oBmyPhsLV/8JoRf5BBL2GwEbOInkfubWaT2H5MyAZOh3VyY4aDJDeYAaJ/XFj0cYxVQihr9dsAAAAPlBnlZFETwr/wAAAwAAQpVGLSpGx64tYp1wAl5UMKcetF0lpaWHVNbsVYUYaLRpCsiKzNqFlxeIaHYFNz6wnjzTJVMnPS5Lf1o/pnK0KSsqjADXEAINN5f010+X50x99LyYPzbEeRFxSkIK0uMtMOisCpnK8CDALLKgtdcyhm1gqdmtoIK2nz8xgIWO04D28fgtR6CsrKGSnLxzFV0THaeaEUdEV5csGqf/ZibDhb6qC+4cYXSZZbWq9nvnQQz8au7v/z88emigMJEt8s2HDTsuaKtEzfqfCk5+jl9+jOtVbR3EvTmG/SWPEs7/7UD/IeCHs2OnyE0kn4EAAADBAZ53akJ/AAADAABYrcXrSf0lfaABLVoQhIJVTS8gvdqfBGkK81IjTlZtwfmrGveEN4dJFVSa2cqLpGorlFxV4GihaMLGPI4v3vvLgaL1vBaoo698pztnsjODo/Er7IW11enfjBDKxOOPxZb0whnratJwD8Y8OWiRyvdZQF5PBBTH+xpDb5RMDX9DZTIm4rhDn3zgjymX7CzZZlZBOO+cpMNNwA1gVVOFr3Cs3xX72AW0Ba+/SYusnxB5QCMFBqBMGQAAAQBBmnlJqEFomUwIb//+p4QAAAMAAEtL5uAFvRLv/yGEW4WXIFVDLu8a/YX+rW7vcKVoDU95b6qXK4VpILa0h7rj5m8Kq6YpPanQKvXaCv2l+EM6pXCPT8EhYbg6hVdcVKEhtNzADVFGuReUr+KK91eIJpNngJazLIUDoF39PPHUpuItkRS3cj0vOAEuB6fPy4L8U6Rh6msF4IsgPyWwnf/K/LXda6vbI3l3f6ldAaJd+pWeL9LDB/U+PJ9/SJReND/5gQmmITu1IiLNhDOKbCiuwxY1DbPbkuOgc8Dl0Kfn1J9UMmTCqR/MikIa3roECftKckWQew+1f6Dwn+o/7ug4AAABqEGanUnhClJlMCGf/p4QAAADAAdHXP30Ux1UABUnrwWknIZgumcF+9M6Y2i3LW0R7d2SxcifMyqL1L0q+AcKsjZX8SK/+DVQqCzr/qySSwbQRKvEGrCmB2ov85sxLKDtVQ+2LbLGsfdj12ol6NJnGa60j1t+GCzbsrCGDCY7F+/xCuNYzvGfWeTQ10t4kLa2Hb3RjNnTCVZOtzMDcfmAnSC9iKAHCXQJBFMjvE4uC3PpZrpcdaEgHZ9QKESeOLuJTYAV5FgwQBX+Twyz4atOhyruxv35Gf7coO3S08pSbbjARk4yUWr836Ih2jji09+F9khpf+pbJvDLX5cwCHnoyYYdUH5yeQ+XjpSGsK5Gqtr91s/sfQ8uM5qm4jLMe/oprQlhJn+ogwaMV9+QC/++rYTQj+VdJWyZmjYSp4wYFYFuctiZQyCnIvmK/ugPuhdO86eJUQj4RhaDgnZax8mhnZnGJ689DQw81sC3peBoPFjZJTncmkDD0sT1Rrl7pwX54eegRBoA0hmNJYTSXI5jJ0e2S2ynacJtOdIYXa6P7drfjsrZtEzmQeEAAAE4QZ67RTRMK/8AAAMAAYh0MwC05FeImWlgAIfnyVpPJXBoMAlrO9Cw1S9yP4i50QTo95SBQJ7Xww6DGZkwI95wU7dOZLJJMJY/NOF3eFwEpJJ7iu7p1CVOsObdu6XqmvWPyKo7soSXBT9H5buU/fHg8eA6i1hq5Foeve9kztyA8JiFiJjFFGnOIcrXhusdP9zD8Mcd1TijqmbOSesvFafjY9GmegRnmL4fue6EA7VhkUBk1dy7u6XyMejhN/04wXb2KiSKyAjHIxf4Zk/JlC1URlapQdQU3oifJwWu7n3sQKJNC5+x1MxJNZjMAPBCxEpd3aYyNjwp5LQKNkcj3hiw2EscycDZcLtUvwWd7MUeINmJ23XH5YcOJufhr96CvfZVrhu/Hz9CKaq7HA9nMRdfSP1HJlUJydOAAAAA4gGe2nRCfwAAAwAAyUvxpyBSEvg2ePtVZoAF9eSqtPKIwG/vMmX07gk/RuOuJfKYoz1fxkAUuVpv0rVbPsBv0mwlvbbtmYC5Vyyv357feS6FJ3ut2sD7zow1UnTCHOc8khfGjsbB+AnpJxvkYwnDr+IDtyMVJPBhwhFYHQpPDo4ZZFFWhakrvJkmNFkD6LG9p+UP6DWqhsDjroSKgcj2g391HRU6NYEJxx/AUvorXdACFETIlGdgr72AqCVFQzupc5sSD0+qUitSHnwKzW6lYW4N8Y4SmaP4AXvJNfjIa91+y4EAAADPAZ7cakJ/AAADAAHxeApiNvuMRNTPGLnH+Ml15WMgAdkVv1klkGtMW8Sb685I0Fu9OX0+Kw6CqHgRMY83umwegW/Ur1rHw8FNr1GaGWWBAFQcR15QSovP9SQVK6+1Cj4zvDbbBJiIx0drSDDLF1h6TM48cXLT1CoJcpKOeB5cNVthqR2QVEb31tuHsAf7ojKIGZJm20KjdLvm9FDOQTWoi4WeCM9Ex5YgNyBvRj4SluHtbB1ofBzIgzQ55R3j08uCDfxGdhRPNtNSE2C2ISUhAAABUEGa30moQWiZTBTwz/6eEAAAAwAxGUwlDH851G1wAXrhfgw548dG3lblJH7s0J8nvejFyXOw33wbNnfJ2VA9tAdFb6dwuj0wZwfCrKKh6BBDdv//928b+GmByYpLDOqS0lneyjnHb9u6eBFwB3Jc5795Ib4shSJTBFSEsunmLghbwByPF5CfYHMDCX3lRIviCwJQSsc4//2Y7zzolNb4BBjtvc6JU/QMfKbFGnwV+k0r5ah6NPZOTHs0w5jXaTYSt07v594715kitiFlUz0NgpaVB2DO/BzwOI74dobntrQH+XRzehtEOMhcOxX2ZJYA6QwYjxryQR+/RCYd6rAy6Bm9r47ZrfnqxTvNyvfh4jUyP/7aOdwe1GJ8nB5gswhMgGCG5UYziIUjclDLDeaqGK7ixY1nMaldXBDD/oexavhOsiMBW1UBG5xPpjNC85eegAAAAKwBnv5qQn8AAAMADYPAUwknM7aH8b97O+9VOmi8EYAF3Y6QFnsr8Q+2BM91FIKi4Ws9L8nnpy9Gip0gferIZakdHwiH9/9PP6EWTQo1uBZD6eo9kJvPZTQXHTMPFWBfEu4JPujeR/wsC3gZUBeFkw+rxDnaQ8yKja45/lJk34FI0q2sPCBWkiZgcqKf5Bidpv/XKlJxnp5qyRSPYEdAPJv1lhP+KIBZIKL7plT+AAABDkGa4EnhClJlMCGf/p4QAAADAH69WwNQRQADjQy4IH2+7/HCSiyCztwL6qgMlmlzKAqKogx6HGquLpChPY4beeECeZS9k95cH+Ex9/OGKL+B4QafMQfbGgoZWQLSXyH3aQ2OopPN48tObvqNHu7fT3p+eVJ111H6n8bBfJbLcuk46bmVM4P3o0oSvuQKNmGBd49Nh6A4FItMs9l15kjxEwgGDhKtshySug5iUM+rG0zr2lHj5IinNHprsi8RihEXc8azld+1QEkRuJmLkNmhv3ofHO1ghuuwJkLBzoSLFhLmI0a9GmeLNO+v/1uOR0LoijNliscdd7bE9DAOFpsP/U1OdXcy0kuDw8R0M842IQAAARxBmwFJ4Q6JlMCGf/6eEAAAAwFPdccVItjrQACcecFo5KPFo4E1mzO8ySwSwT04O62+cH5/3wvdEcs5+v7SONZmR848N8uhisLC9qMq+LeLynVC/YU6OoA5xMW3NfAknpqgpurkTs6EwE8gMDBrDSJeGHO7Ika/vFX+jmS+dAt79ypT2yXblkGSXTQocyw7hH6cD9YYvCkGthPsX2Pa6uk5y4a16b5KokVz3oIQGccZI4ND7vsYvOL/nYALCxwmboUB9rmuxbTwljyGUTysNgKNK+RLH9kz4/7/5t0G9+vbMAsH0AEgL46y9Ei9Fv3PU801zK84QjWM9HJFGNpPOcfaiFAQEceLOGC6IKe+bFbgU3X1mEVdq7PkVPIlnwAAATNBmyNJ4Q8mUwURPDP//p4QAAAIps3AccW13cWsnldAAhuvXRYDSLPxZq7FVtHf6foPOjVdwZ34LIkt/ENRSU6p7K2HE/zfoFRauJWvhdhj2LMjllvI/9v0jB6Af6KxMiAfaQOqRiT3c2BMuIKhHX+4P6TsB2afn+yt0oCgMj88KJn3OvvjarDsxIYI4aFct38vV/N8Md2P2dzEUnio0bsjS116UKZTUEDeOkcdJAjl05e28elGEuVAvK3qL2CzMCcPzhPznnMy//4K4KtRMhpW5chHf3Kar1D0B8BGJo5rHVvJCzLtn/fjgLRqCmhiB4qz+9FluPa/tBh1bgGmcml1hbK3eNKohNj0Gu4YHUQ+6cgBAd80YGFPmXUEcUaG4yM6/HEln2TnTBk/ewRxsLkb0b/BAAAAqQGfQmpCfwAAAwJbtrS/2LB8WMm07KYQAQjI4J/E3fy+//xEZGCYeh0CyJWk0T427flDY4hmiKWhvg6uHZweEjEqD5ld+t3vQG8RljDaUTQC/S9Bqq7PD8S5pCJlGYm0+mvZvFNwv2NAhCqq2CACgJ7QspEHRtt9jURDaOSLq4nWXGQetWMYMfhW0TjQVgxxdHLsZja5zPIhrstvTiv8aPkRjQGLdqxowU4AAADHQZtESeEPJlMCGf/+nhAAABc68oxHRqQAtcbVaMoFWQpp5OwbqNR4152EgHDh0tgF60DIxZjYMg77FeeJ1m+65hM0JYw3fw69igvd0uZ9Tv+GL5raxupaE+SBqHRW1KUBpTj9xiWnqmGH0Ny96zmp30G+dBRtGwfQkkWbZZoVVQTnJab1jQZfo+uVN8etXUvVgc688Rl/BoHx4UNbXLNHjJ+vxyIOTjhe2XoFyty/qh5zeZIxrUOxmpHbr/fvbQFQ8mjPtaECdwAAAPVBm2ZJ4Q8mUwURPDP//p4QAACaiIFXzMXcgBNXrwWjkS7ZXiCgSYXeAad8buoVLrf/PH04KTpb0cl+OYWlIgBp18/jNjaz9BfTuwLd4qerANpo1vDYs62e+1ok6CQ12Cd3Hvlcp0uZIcna7JuJNJC7Scez+dwX2ZOcKXp5HgoL9PgTSUOFAMW0XRmwCTrNa7mtZ8Hmp9n/YBwLrmEVFE9y6uzQtYBlTMtd0vIR7YTBkybVME+qfqPyFwtY9xfMprnRffscXUNx8yX3svIeIghJIWwy5KhdX9E32LUx+OiaM/DvPalLLzVkErT219DO8gtw5+UCPwAAAJ0Bn4VqQn8AACoW60wkEQfCnwQAQ+umYPrL8/0XG/JhXwlGuVtOuSIUx//P4rs6GgVuNexALLJSnNqc5NiBw4/wMiiN4/SIa45M/tUfkvmeicTAc7twzf4fcmtaq682xrxmqYBd13KmqoWHuXJ6CsXl6QFf92M/mKZx2s2CMQ7EfuLK1ZulwM7DUBIW1p1bHdl7kau/ZyzkJzt1QvKnAAABAEGbh0nhDyZTAhn//p4QAAGR/5l9DBvNAYd3kaU0LDgAOVG1Zj40GD5+mJenwRuIdD6OCTEW71RWrA+a0r1C2zo4idttrZIYmC4uByJtaz7IuDSNdmk/F4lAIDDOhfWEJ5dz59xF5RBnwu95X8aC1+CPkVFrYMNgir7mubY+n/tzltI+U6NPiRIFUvgPjlq9+7yVZWv1pbNEwr7KZki1Atadyeh4r4HsDt8D1h1rdr1l6WOidw8MsHWos5GhazrJrZ/1HL0QF1j6+CWqWQCiSBdc3WSJZt+AV1U4m+M/DXhqefe0Z4Hb0G1TpZWV6g3dTKjd+lm51PMcBh/Lqn9DBO0AAAFAQZupSeEPJlMFETwz//6eEAAEFEPrnidPPyrLWICucyBQAA0Z5JL7pNCgddOjF6/LHrlklbUzA48fJkTU17xQZaBdwwFNtiKq4w8PSKcYp/GFGCOTB6APiaNEG4TZJj/Uz9shk54HxS6ZQ6LbedPUzC3p94BGPJMgGaptX+5NwI+rI32LC8Qi0mi+aYMSackUM9bczF20sy3W8Ac9uL6opfQw5HRSwvHKW7R+OAxsF6EP5iADbUIad1qfEKOf2Yb83/EFLbsEasV7YnCOfU70HtvByq+eHSEbUcH+IsesrXavOgn4PgTMCgSuoSg7EEzZhoZK1aIyun7DpSAbWlJDDSvmmS2OTZpgBDcr+XmLqujwHLePR09F/czi9ls+wrdywG1P/emOH0e1mtgJu6UaJFEWzg2qRO1aM66qOUqfAQMAAACtAZ/IakJ/AAEd21md5O6Yw/Opk0ynYAHDzfpIUoNsOgckHzA8NWik/Y9eC4UkylxMhjhA2lix+jAVxBee2wP1xRA08aJoVZrlbUAE8Fapa1wyDgOF1cU8arrDx/kyMsWectBwe6nMC8O/hj4Vdhqdx8KrZ0BmzNY4SpCAh+bt4M3rjxLenAVo4ZneFcFmAnl8UT/GRtfLWsIOV4pSw9f04/W1APuDBr4kYdqorcAAAADiQZvKSeEPJlMCG//+p4QAAsOKCQbyCnZ6AA5Ct3fa5jjtSfz0CNqcP/cptyFRBaJw8p1mVQk8cv4GAPlYmV/U2dsyqSz5o3aypi146XePF5B2eC7Ld2bojaNk3Y2qMVqNki6NM+ddW5cshOJGDjHGd1Hj9xH8KVV7IjO9S3t1Mse433rNfoCN0PDRMgM2f4E5EbMdeDpBzqPrGk4luu/+pXVf2DPB3Jkwt5go0JXKmAqitU6bur6sI33G1Kjqp8A3CvxhEccJVnn8fzVQZ3IuEFn4XM5EYJHEbtEr4NIVE5gBswAAASlBm+1J4Q8mUwIZ//6eEABHREc8pKtkAC3YUhpd0fJuHWIH+kH6Nw3OozZ68IyzfPMgoHhexiMVSXBYpTpoRyHz4ZrYicrB6MxCZJ/rGnfSrZKRJv5FgKpG/pae0zLbcYTa3HS2VbqmhfdCtuoYtB47rsBt4e4m8Lov5Z2AgpuIelqM1VxBv85Axlj9hvAszykqJoani63FxxtMAGHL4TwksGklmfUQjLpex2YGkn1HD2pU6uQE+0JkCD2tqz/uXU29G9uhs6m+JJGZ8Al0CJSdKYYMEwmS7zbJXpFmzQbQdrE6ZFE6YlJlS/ImRJguBuwh1JMuXwAyopmf3SObxyaHJfn5eyzPKcK5EYeMXcMtscH6z1t9wev+XsjI+QPMRoFfh2W+GfQACtgAAAC5QZ4LRRE8K/8ADtskrASMFw/1sLQ2Pugk9ocMTlg2FlxQAOUSo1ErMirNWjRycPqAAN9YhlUkIBvtLhurFRRSg4RrlP40Q8NZBvR6AxfvVEwYYDuU3VB7SewQJyQ3didP5uXXE+knkVQkqnIZ56zxOS2Icosnajmoak7hX0jufM4ax98+Kt1r1JzWB3t2P1jWtplINtVTM/A7mnBUmRoUBICj3kLfbfvj83TpeRfk0C2k5wvNP7WINmAAAACcAZ4sakJ/ABNdtaYSBydVsWKvA0oJJBkABzbz17GPC5fn+6gL3Uj5B8QIN4lak1NtlFDj/x56kA/oPnCB4c+NaBInsrVtMHnmjsBrCCN3qS+/Fa/W7UZ03oXFFER/6y+4YX89sHnMViPVrWZBNhGcGXVV1eR3U+k6WjFmVfglj/zXiOI5KZ0N/Os94MJUUMlu8SLA9Th40hTgAMqBAAAA/EGaL0moQWiZTBTwz/6eEABHlliMWxdc1UuE8zJMueVgAOyN4LQ4UzrMv0esr10Gwja7bYTu6iHki4U4+eDInwhqqb4qdpp4LiZ1fHaPTIwq9WTgjmAyOm8t/iu+iJE/hWZGea8e/TONcwQNKBo3lGfSJrm+XsT6umjtIkBcFly4+DkbvnHuVjK7YGAMHpfUBgjABSFOurLi3Hk1GUDhiUMfEyoVW7H/+CjTWE9nFOWMAocXN7i5bP1NkSBg7hFoGGFxiTVBUUkeNdegKZDJ+OXfWbvn5sCduJ4ZRnx02h2+NJTS9UK7ElrGjlFrR/4V5urOpSmSfZ/xvAAFBQAAAI0Bnk5qQn8AE12MUDwnXzNv1zStZ7HIvs44/EPObYAQfnfpNXDu1kWrGk1cfgwdHP5SJi9sZzRtT7Do1XlXRIY7eHgq3hCmAeK0oMM5HZGS9PYHs+IvKIxYzwe9vhiivUN0ID/uP01m9GftHkLcI/fiVyHLyONEjlPRHx+zD6/5RHSI4Cf1BHAN+7AAJmEAAAEWQZpRSeEKUmUwUsM//p4QALWpK94niPLO5kADLaXC0i3AAX3GS5l1JKoStCkx+U4rlkfqjAvcq18n74amKN1GIl+lTcTDzll5DxBWPSdkuiyV00MV4qV37hWFuiUZ0Vviijd8dRajU/rjK9PRWrhjHp2isuO0/MwMFqEa4zzrI8DpIftGSWiZ3jva+UfbzfeElCezE+Wf9UBcTiK5y4OcYGzzZmqPQNcQm5T92U7efITIBi2esjsTO64+Js+4AW0C6ezzDHraixxMk/Hy88zLfcsAihW5HJEcaLCzj6R6w6FbZSv9V2zDleWn558ihUqFP958FHT3IePuPKGnVAj9Faa8n5/LY6R6x9TvPSSGfP4f/fAABWwAAAC6AZ5wakJ/ADJOqeOVM7hb4AHaE/9chpr5RAZlXFg0TbjfN1Ej2OhA7vycsOeo3Px8kU8S2fJUH+D+rSqvZsQVwJJQhnz0xTNdDI6zkDK231Ab0Q9JZf7IcAChsBSvpQp+cgrhuGgcgGLNwUE9efkS18csfvF9lat06aGZ3Lpx+aMHH0DNIk9BFrjzNrBdoKBBaNCnCp5YsTd7S05qP0aDZHCOQQj4d68ImtQqdJUDm0klPNutisEAACNgAAABCEGacknhDomUwIZ//p4QALnXbX8IZanqXhABxTdIaADlRtVom2w5v1xJg1Ct6WjDpqFpOj2MPOTmPO6hAHuJ+26ngH5ZDpR4wvo8b7j7lkxWRpsmzJ9tv3hXJi7UqBWv+62y67OidLctwdGEeR3rsB2MgmAq8TPSbR6I4IGQtH6QAAWEuveO06kIMFSkpelt/oyQXVpM402pECD0oe2MN+WkU58Qkb7u2dAbb+AVfQB+wWmfc134kcEocIMKrFPavriIbIbErVbByo8k8pT0oLdsM5swL0HXcKNPcj/cCdYin1RL7sIO1/cuPVm6oH/zZbmL3DKOa2oEbcy7xVFib3u8K9ytoAABWwAAAPlBmpNJ4Q8mUwIZ//6eEAHPU7TsW9iaACkA0eSFYe/R1rzT1zUFDb/HLBIKy8J5H5pCTRrEUGaf/snMVKY0M2BHgYAtnPmuCvz6coIZeV3hxKccSY1f7a3JHqCnzKURfG0q1CYP27gOiOhBYRqr7tbFy11+ia0+bLlCOPZPi9Ow3656yN/0VZ5sfhf1piFZX3KxrA/KV6zQgXhOBrGHvWdWzVvB6VaQLCMjFmyzDLSjSYXogPNngC6NRMSRHTSYNycyJZwBoKj7c3kH+U6iWRlvQsDODn2LJhZj+DdaeeGcQWMRurV2VM3o3jjGX4bW6Ka9B//NtAAAZcAAAAEGQZq0SeEPJlMCG//+p4QAdoLunCAlbvwkAFRdgjnfxQb0v37sTBhSFUrZ8RDo5Uow6qtpn9G5cHSlxeLmcS2HNkd/3XfEPNtisrCjvcdDfhCitRN9hGAy/qSkES2kdHWVTAuiqwzP6WzX7x0Ji48uAz34qRBr4ouRKSsmI0OpCjoef3Du+islkEQjHs4/TT1SM0scf2WA5Wj72FGIxAWKDl0fM0Q+leb93RXChYWN5qn2aYz68euUyeujpzy3+pcnpp7wL2US+1MfOeer3SQMzDkWKDKUiHc2sYJuemUduP+BW5skJz6GLYNBt1ZyP/lOQh+Z2X4d7fmzsQAN3hv4iEctoAAA/wAAAR5BmthJ4Q8mUwIZ//6eEAHR9jOzqDQRfm3giguoAMarQNVlYLqORd1egdra8f5s8Tsw1weSPUcherGupJPGdrEPEpJPfUYUpZo927MYG8vtfcxBXn2q8k+yCVmAKPlltutvmlIii12WUf4XpPm4k+uyN6HanzWryukB+mgq6EnC61xMyV2+/1zPxq4pGOUMbfSbYq4TE8fzg8P+Nc6QwINaQq4IezRHW28r0EVpUoi2HAV7vJkPHRdZ6/x/lp4vfFBhiYGzNFMFcRZQfzKRab4PDX6dbpDyc1LcXuMy2EOn9mItOZgfisT6/zjdNJwqBswA7USVt3Qdc0z9rv/PCPPU2HHmACR/e6ZaCO5dZL6CywfXpgqXMq/rAAADAFVBAAAA1UGe9kURPCv/AGGDl6rzSsvi2sAF0SC79QDlnVf90k6CfMdZeL/2Gk90kF9XKyFQPeG9/UGQS4pUYxzY+hFSd+xampplb3sazqe9JlYOlisTulLq4UEDjXDwaols/gD8KyojVsjtd3YdJXfD5+ExBls8F0+meRRZ1umhjNak6EmKMOcZWDlsVVD0VTrXvMcRnFupGciMOFtdt/kUfljacp7EEu9QuEqTuOCgat7nHitGjt7ojOYPfwFCcJXBFX6498TkWKdnZgnj7ez7WreIXQAVBZfVOAAAAJQBnxV0Qn8AfC84cEyy0ZICPgA3QxyhXOlo5M8fT44P2/Q6MQ3pDjZw8g3+cek5icxGZY4z2LSfTQlji2y6w49vEs8v2MPkCD4fFnhqx9H8Yubp7VjuhDk7fYjEfz8CNxqRC+jhcsMaV3bqAdVmV4VUsTm3ciwoDCgaqQi7xx68e5mNkJFDtDs0pwWfYNW9/LAAAH+BAAAAoQGfF2pCfwB8NiHPogAE7ayXbewgrBqePij4NbCtGvjvm24Rg5alJSZhv//vLFIY48d7wG2bfByClJXAlNbXUh+3IguJh4BgkRzMdbxlPQTKtWE5Bx1BqVSp7TlWFjM87RGkN8idSfco6w1eVUCGjsc17vD4V14yTWmNvPtrQO5ab5t2FWKojfbonBRwuCDbLSLTlCrxR/T7xDxrPBTAAAHBAAAA00GbHEmoQWiZTAhP//3xABDvf/0q9mAex5IAOx9709ceJ2G8unqHe5r67OJTxB/OhLYurGIFE/toMFvA/DqVVjEzAuqi4CGMADkqA5zXnNGxg0vKIKGyUiGSZZikLpfWTZV5yS49oKx1F7AdoORSv8V1NwbNqoq6KEr+i9JRB66rsNyFMOeBP+doHBtRd2vf51ZP9pOWQ2HSqaszT/XmD9tzYd0Y12ASAPh4PeWAiLDi3FPxCU8yjV2bcXkxuEWdRU4PDe4d2iatPVNxSadzxoAAB1wAAACoQZ86RREsK/8AX0ONMuRCQQZh2BcxB3jNQAIfb6vmTsFUa0JDHkpDeKcAAa/BRmfY814HC8Q0bLr/Jqzip0LnpbWN/VPE40UDCgR2cGh4j4bdaiZd7Oolo/Fz+ETbpLPjtjFK+idEI8Mi+I5Y62m4yl6a6EsTa65Lu/1e+gtxxjTdYVp96C9EV37uOreHjdkLqMwocjtEoZk20aMvksi3pDxZwAWKA93VAAAAlAGfWXRCfwB4FP6jJP9AA6bdtolI75a3UTN6atRQLhwL2Hem46q2U3W32CnfX9pf0ATp4Ltt3yGy3zf1/YyA+WOXcQiP+WcpXTlAwz8H2KdNWv+pA7rqwWQnIvxt9gaTndt5YfaJWyV+rFWwVlsNeqNCOC7sQsLWE4nRa4buWJTxAsMtf9n1rwCM7ueqbs/ZEAAA64AAAACLAZ9bakJ/AHk6SuVVa+IBuYMQuJij9+0ADtDqdYRN8JpH97D/M+cy9qlsjBeXKlwoQbUe8t2xxXHyArhs9boC/JBfudOV+DmD4WHQF3PsJtloK+67/MhOufUFCqef9/DPHluLu2z1ZCMMmJFd8lQSrb8h576hy7RFtOjRKfyrgko08XVDftzOAAAIuQAABydtb292AAAAbG12aGQAAAAAAAAAAAAAAAAAAAPoAAAMHAABAAABAAAAAAAAAAAAAAAAAQAAAAAAAAAAAAAAAAAAAAEAAAAAAAAAAAAAAAAAAEAAAAAAAAAAAAAAAAAAAAAAAAAAAAAAAAAAAAAAAAACAAAGUXRyYWsAAABcdGtoZAAAAAMAAAAAAAAAAAAAAAEAAAAAAAAMHAAAAAAAAAAAAAAAAAAAAAAAAQAAAAAAAAAAAAAAAAAAAAEAAAAAAAAAAAAAAAAAAEAAAAACWAAAAZAAAAAAACRlZHRzAAAAHGVsc3QAAAAAAAAAAQAADBwAAAQAAAEAAAAABcltZGlhAAAAIG1kaGQAAAAAAAAAAAAAAAAAADwAAAC6AFXEAAAAAAAtaGRscgAAAAAAAAAAdmlkZQAAAAAAAAAAAAAAAFZpZGVvSGFuZGxlcgAAAAV0bWluZgAAABR2bWhkAAAAAQAAAAAAAAAAAAAAJGRpbmYAAAAcZHJlZgAAAAAAAAABAAAADHVybCAAAAABAAAFNHN0YmwAAACYc3RzZAAAAAAAAAABAAAAiGF2YzEAAAAAAAAAAQAAAAAAAAAAAAAAAAAAAAACWAGQAEgAAABIAAAAAAAAAAEAAAAAAAAAAAAAAAAAAAAAAAAAAAAAAAAAAAAAAAAAAAAY//8AAAAyYXZjQwFkAB7/4QAZZ2QAHqzZQJgz5eEAAAMAAQAAAwA8DxYtlgEABmjr48siwAAAABhzdHRzAAAAAAAAAAEAAABdAAACAAAAABRzdHNzAAAAAAAAAAEAAAABAAACsGN0dHMAAAAAAAAAVAAAAAEAAAQAAAAAAQAACgAAAAABAAAEAAAAAAEAAAAAAAAAAQAAAgAAAAABAAAKAAAAAAEAAAQAAAAAAQAAAAAAAAABAAACAAAAAAEAAAQAAAAAAQAACAAAAAACAAACAAAAAAEAAAQAAAAAAQAABgAAAAABAAACAAAAAAEAAAQAAAAAAQAACAAAAAACAAACAAAAAAEAAAQAAAAAAQAACgAAAAABAAAEAAAAAAEAAAAAAAAAAQAAAgAAAAABAAAGAAAAAAEAAAIAAAAAAQAACgAAAAABAAAEAAAAAAEAAAAAAAAAAQAAAgAAAAABAAAKAAAAAAEAAAQAAAAAAQAAAAAAAAABAAACAAAAAAEAAAoAAAAAAQAABAAAAAABAAAAAAAAAAEAAAIAAAAAAQAACgAAAAABAAAEAAAAAAEAAAAAAAAAAQAAAgAAAAABAAAEAAAAAAEAAAgAAAAAAgAAAgAAAAABAAAGAAAAAAEAAAIAAAAAAgAABAAAAAABAAAGAAAAAAEAAAIAAAAAAQAABAAAAAABAAAIAAAAAAIAAAIAAAAAAQAABAAAAAABAAAKAAAAAAEAAAQAAAAAAQAAAAAAAAABAAACAAAAAAEAAAYAAAAAAQAAAgAAAAACAAAEAAAAAAEAAAYAAAAAAQAAAgAAAAABAAAEAAAAAAEAAAYAAAAAAQAAAgAAAAABAAAEAAAAAAEAAAYAAAAAAQAAAgAAAAABAAAEAAAAAAEAAAgAAAAAAgAAAgAAAAABAAAGAAAAAAEAAAIAAAAAAQAABgAAAAABAAACAAAAAAMAAAQAAAAAAQAACgAAAAABAAAEAAAAAAEAAAAAAAAAAQAAAgAAAAABAAAKAAAAAAEAAAQAAAAAAQAAAAAAAAABAAACAAAAABxzdHNjAAAAAAAAAAEAAAABAAAAXQAAAAEAAAGIc3RzegAAAAAAAAAAAAAAXQAAE4YAAAKHAAAA+QAAAJoAAAB7AAABPQAAAMcAAAC8AAAAmgAAANcAAAE3AAAAlQAAAHgAAADTAAABaAAAALQAAAEWAAABcQAAAMsAAAC5AAABNgAAAWMAAADxAAAArAAAALwAAAErAAAAnwAAASAAAAC1AAAAqQAAAIoAAAD8AAAApgAAAJ4AAAB+AAAA8AAAAJwAAACOAAAAgwAAANMAAAByAAAAagAAAJYAAADnAAABOQAAAJoAAACnAAABFQAAAKoAAAEEAAAA/wAAAWwAAADdAAABEQAAATUAAAD9AAAAxQAAAQQAAAGsAAABPAAAAOYAAADTAAABVAAAALAAAAESAAABIAAAATcAAACtAAAAywAAAPkAAAChAAABBAAAAUQAAACxAAAA5gAAAS0AAAC9AAAAoAAAAQAAAACRAAABGgAAAL4AAAEMAAAA/QAAAQoAAAEiAAAA2QAAAJgAAAClAAAA1wAAAKwAAACYAAAAjwAAABRzdGNvAAAAAAAAAAEAAAAwAAAAYnVkdGEAAABabWV0YQAAAAAAAAAhaGRscgAAAAAAAAAAbWRpcmFwcGwAAAAAAAAAAAAAAAAtaWxzdAAAACWpdG9vAAAAHWRhdGEAAAABAAAAAExhdmY1Ny44My4xMDA=\" type=\"video/mp4\" />\n",
              "             </video>"
            ],
            "text/plain": [
              "<IPython.core.display.HTML object>"
            ]
          },
          "metadata": {
            "tags": []
          }
        }
      ]
    }
  ]
}